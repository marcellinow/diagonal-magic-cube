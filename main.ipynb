{
 "cells": [
  {
   "cell_type": "markdown",
   "metadata": {},
   "source": [
    "# Local Search Implementation on Diagonal Magic Cube\n",
    "## Made by:\n",
    "- Jeremy Deandito / 18222112 \n",
    "\n",
    "- Nathaniel Liady / 18222114\n",
    "\n",
    "- Gabriel Marcellino / 18222115\n",
    "\n",
    "- Nicolas Jeremy / 18222135"
   ]
  },
  {
   "cell_type": "markdown",
   "metadata": {},
   "source": [
    "## Import relevant libraries"
   ]
  },
  {
   "cell_type": "code",
   "execution_count": 82,
   "metadata": {},
   "outputs": [],
   "source": [
    "from tensor import *\n",
    "\n",
    "from simulated import *"
   ]
  },
  {
   "cell_type": "markdown",
   "metadata": {},
   "source": [
    "## Cube Initialization"
   ]
  },
  {
   "cell_type": "markdown",
   "metadata": {},
   "source": [
    "### Goal State\n",
    " Final state cube we are trying to achieve.<br><br> \n",
    " The ideal state"
   ]
  },
  {
   "cell_type": "code",
   "execution_count": 83,
   "metadata": {},
   "outputs": [],
   "source": [
    "\n",
    "goal_state = [\n",
    "\n",
    "# Level 1\n",
    "[\n",
    "    [33, 22, 113, 42, 105],\n",
    "    [2, 89, 106, 19, 99],\n",
    "    [85, 82, 4, 119, 25],\n",
    "    [98, 90, 6, 112, 9],\n",
    "    [97, 32, 86, 23, 77]\n",
    "],\n",
    "# Level 2\n",
    "[\n",
    "    [95, 80, 111, 11, 18],\n",
    "    [91, 55, 65, 69, 35],\n",
    "    [16, 66, 70, 53, 110],\n",
    "    [5, 68, 54, 67, 121],\n",
    "    [108, 46, 15, 115, 31]\n",
    "],\n",
    "# Level 3\n",
    "[\n",
    "    [100, 17, 48, 34, 116],\n",
    "    [114, 75, 52, 62, 12],\n",
    "    [83, 50, 63, 76, 43],\n",
    "    [8, 64, 74, 51, 118],\n",
    "    [10, 109, 78, 92, 26]\n",
    "],\n",
    "# Level 4\n",
    "[\n",
    "    [38, 102, 3, 125, 47],\n",
    "    [81, 59, 72, 58, 45],\n",
    "    [30, 73, 56, 60, 96],\n",
    "    [87, 57, 61, 71, 39],\n",
    "    [79, 24, 123, 1, 88]\n",
    "],\n",
    "# Level 5\n",
    "[\n",
    "    [49, 94, 40, 103, 29],\n",
    "    [27, 37, 20, 107, 124],\n",
    "    [101, 44, 122, 7, 41],\n",
    "    [117, 36, 120, 14, 28],\n",
    "    [21, 104, 13, 84, 93]\n",
    "]\n",
    "]"
   ]
  },
  {
   "cell_type": "markdown",
   "metadata": {},
   "source": [
    "### Problem Cube Initialization"
   ]
  },
  {
   "cell_type": "code",
   "execution_count": 84,
   "metadata": {},
   "outputs": [],
   "source": [
    "problem_cube = Tensor(5,5,5)\n",
    "\n",
    "cube = problem_cube.initial_state()"
   ]
  },
  {
   "cell_type": "code",
   "execution_count": 85,
   "metadata": {},
   "outputs": [
    {
     "name": "stdout",
     "output_type": "stream",
     "text": [
      "Level: 1\n",
      "\n",
      "[7, 79, 40, 123, 117]\n",
      "[92, 29, 39, 33, 109]\n",
      "[10, 61, 121, 38, 49]\n",
      "[64, 105, 24, 48, 27]\n",
      "[12, 56, 41, 110, 55]\n",
      "\n",
      "Level: 2\n",
      "\n",
      "[103, 23, 72, 84, 108]\n",
      "[44, 26, 89, 95, 22]\n",
      "[70, 107, 60, 114, 106]\n",
      "[122, 93, 100, 34, 86]\n",
      "[25, 53, 81, 6, 32]\n",
      "\n",
      "Level: 3\n",
      "\n",
      "[67, 96, 1, 20, 16]\n",
      "[119, 5, 4, 80, 68]\n",
      "[58, 66, 43, 85, 71]\n",
      "[99, 17, 125, 77, 18]\n",
      "[59, 101, 69, 19, 120]\n",
      "\n",
      "Level: 4\n",
      "\n",
      "[116, 75, 31, 21, 13]\n",
      "[91, 28, 104, 98, 94]\n",
      "[36, 42, 76, 78, 51]\n",
      "[63, 54, 11, 111, 2]\n",
      "[124, 35, 112, 65, 37]\n",
      "\n",
      "Level: 5\n",
      "\n",
      "[46, 82, 14, 62, 113]\n",
      "[88, 52, 45, 90, 50]\n",
      "[47, 115, 97, 87, 83]\n",
      "[15, 102, 8, 57, 3]\n",
      "[74, 73, 30, 118, 9]\n",
      "\n"
     ]
    }
   ],
   "source": [
    "cube.print_tensor()"
   ]
  },
  {
   "cell_type": "code",
   "execution_count": 86,
   "metadata": {},
   "outputs": [
    {
     "name": "stdout",
     "output_type": "stream",
     "text": [
      "cube's objective function: 2506307.0\n"
     ]
    }
   ],
   "source": [
    "obj_func = cube.objective_function()\n",
    "print(f\"cube's objective function: {obj_func}\")"
   ]
  },
  {
   "cell_type": "markdown",
   "metadata": {},
   "source": [
    "## Local Seach Implementation"
   ]
  },
  {
   "cell_type": "markdown",
   "metadata": {},
   "source": [
    "### Steepest Ascent Hill-Climbing"
   ]
  },
  {
   "cell_type": "markdown",
   "metadata": {},
   "source": [
    "### Simulated Annealing"
   ]
  },
  {
   "cell_type": "markdown",
   "metadata": {},
   "source": [
    "### Genetic Algorithm\n"
   ]
  }
 ],
 "metadata": {
  "kernelspec": {
   "display_name": "base",
   "language": "python",
   "name": "python3"
  },
  "language_info": {
   "codemirror_mode": {
    "name": "ipython",
    "version": 3
   },
   "file_extension": ".py",
   "mimetype": "text/x-python",
   "name": "python",
   "nbconvert_exporter": "python",
   "pygments_lexer": "ipython3",
   "version": "3.9.13"
  }
 },
 "nbformat": 4,
 "nbformat_minor": 2
}
