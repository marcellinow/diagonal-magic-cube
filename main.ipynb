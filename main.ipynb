{
 "cells": [
  {
   "cell_type": "markdown",
   "metadata": {},
   "source": [
    "# Local Search Implementation on Diagonal Magic Cube\n",
    "## by:\n",
    "- Jeremy Deandito / 18222112 \n",
    "\n",
    "- Nathaniel Liady / 18222114\n",
    "\n",
    "- Gabriel Marcellino / 18222115\n",
    "\n",
    "- Nicolas Jeremy / 18222135"
   ]
  },
  {
   "cell_type": "markdown",
   "metadata": {},
   "source": [
    "## Import relevant libraries"
   ]
  },
  {
   "cell_type": "code",
   "execution_count": 1,
   "metadata": {},
   "outputs": [],
   "source": [
    "from tensor import *\n",
    "\n",
    "from simulated import *\n",
    "from hill_climb import *\n",
    "from random_restart import *\n",
    "from genetic import *\n",
    "\n",
    "\n",
    "import numpy as np"
   ]
  },
  {
   "cell_type": "markdown",
   "metadata": {},
   "source": [
    "## Cube Initialization"
   ]
  },
  {
   "cell_type": "markdown",
   "metadata": {},
   "source": [
    "### Goal State\n",
    " Final state cube we are trying to achieve.<br><br> \n",
    " The ideal state"
   ]
  },
  {
   "cell_type": "code",
   "execution_count": null,
   "metadata": {},
   "outputs": [],
   "source": [
    "goal_state = [\n",
    "\n",
    "# Level 1\n",
    "[\n",
    "    [67,18,119,106,5],\n",
    "    [116,17,14,73,95],\n",
    "    [40,50,81,65,79],\n",
    "    [56,120,55,49,35],\n",
    "    [36,110,46,22,101]\n",
    "],\n",
    "# Level 2\n",
    "[\n",
    "    [66,72,27,102,48],\n",
    "    [26,39,92,44,114],\n",
    "    [32,93,88,83,19],\n",
    "    [113,57,9,62,74],\n",
    "    [78,54,99,24,60]\n",
    "],\n",
    "# Level 3\n",
    "[\n",
    "    [42,111,85,2,75],\n",
    "    [30,118,21,123,23],\n",
    "    [89,68,63,58,37],\n",
    "    [103,3,105,8,96],\n",
    "    [51,15,41,124,84]\n",
    "],\n",
    "# Level 4\n",
    "[\n",
    "    [115,98,4,1,97],\n",
    "    [52,64,117,69,13],\n",
    "    [107,43,38,33,94],\n",
    "    [12,82,34,87,100],\n",
    "    [29,28,122,125,11]\n",
    "],\n",
    "# Level 5\n",
    "[\n",
    "    [25,16,80,104,90],\n",
    "    [91,77,71,6,70],\n",
    "    [47,61,45,76,86],\n",
    "    [31,53,112,109,10],\n",
    "    [121,108,7,20,59]\n",
    "]\n",
    "]"
   ]
  },
  {
   "cell_type": "code",
   "execution_count": null,
   "metadata": {},
   "outputs": [],
   "source": [
    "goal_cube = Tensor(5,5,5,initial_array=goal_state)"
   ]
  },
  {
   "cell_type": "code",
   "execution_count": null,
   "metadata": {},
   "outputs": [],
   "source": [
    "obj_func_goal = goal_cube.objective_function()\n",
    "print(f\"goal cube objective function value: {obj_func_goal}\")"
   ]
  },
  {
   "cell_type": "markdown",
   "metadata": {},
   "source": [
    "### Problem Cube Initialization"
   ]
  },
  {
   "cell_type": "code",
   "execution_count": 2,
   "metadata": {},
   "outputs": [],
   "source": [
    "problem_cube = Tensor(5,5,5)\n",
    "\n",
    "cube = problem_cube.initial_state()"
   ]
  },
  {
   "cell_type": "markdown",
   "metadata": {},
   "source": [
    "## Local Seach Implementation"
   ]
  },
  {
   "cell_type": "markdown",
   "metadata": {},
   "source": [
    "### Random Restart Hill-Climbing\n"
   ]
  },
  {
   "cell_type": "code",
   "execution_count": null,
   "metadata": {},
   "outputs": [],
   "source": [
    "print(f\"ideal objective function {obj_func_goal}\")"
   ]
  },
  {
   "cell_type": "code",
   "execution_count": null,
   "metadata": {},
   "outputs": [],
   "source": [
    "RR = Random_restart(cube=cube,max_restart=100)"
   ]
  },
  {
   "cell_type": "code",
   "execution_count": null,
   "metadata": {},
   "outputs": [],
   "source": [
    "RR.results()"
   ]
  },
  {
   "cell_type": "code",
   "execution_count": null,
   "metadata": {},
   "outputs": [],
   "source": [
    "# print(f\"Random Restart Best Value: {RR.best_value}\\n\")\n",
    "# print(f\"Ideal Value: {obj_func_goal}\\n\")\n",
    "# print(f\"differences from ideal: {RR.best_value - obj_func_goal}\")"
   ]
  },
  {
   "cell_type": "code",
   "execution_count": null,
   "metadata": {},
   "outputs": [],
   "source": [
    "RR.hist_plot()"
   ]
  },
  {
   "cell_type": "markdown",
   "metadata": {},
   "source": [
    "### Simulated Annealing"
   ]
  },
  {
   "cell_type": "markdown",
   "metadata": {},
   "source": [
    "#### Initial State"
   ]
  },
  {
   "cell_type": "code",
   "execution_count": 3,
   "metadata": {},
   "outputs": [],
   "source": [
    "SA_cube = copy.deepcopy(cube)"
   ]
  },
  {
   "cell_type": "markdown",
   "metadata": {},
   "source": [
    "#### Searching"
   ]
  },
  {
   "cell_type": "code",
   "execution_count": 4,
   "metadata": {},
   "outputs": [
    {
     "name": "stdout",
     "output_type": "stream",
     "text": [
      "Initial Energy: 6277.0\n",
      "\n",
      "rand_val: 0.4407445650002977\n",
      "\n"
     ]
    }
   ],
   "source": [
    "SA = Simulated(cube=SA_cube,tmax=1000,step_max=100,cooling_schedule=\"quadratic\",alpha=0.99,greedy_move=False,function_error='absolute')"
   ]
  },
  {
   "cell_type": "markdown",
   "metadata": {},
   "source": [
    "#### Plot"
   ]
  },
  {
   "cell_type": "markdown",
   "metadata": {},
   "source": [
    "Best Energy "
   ]
  },
  {
   "cell_type": "code",
   "execution_count": null,
   "metadata": {},
   "outputs": [
    {
     "ename": "ValueError",
     "evalue": "setting an array element with a sequence. The requested array has an inhomogeneous shape after 2 dimensions. The detected shape was (99, 6) + inhomogeneous part.",
     "output_type": "error",
     "traceback": [
      "\u001b[0;31m---------------------------------------------------------------------------\u001b[0m",
      "\u001b[0;31mValueError\u001b[0m                                Traceback (most recent call last)",
      "\u001b[0;32m/var/folders/nh/x_s256cx2xn0njptj47cyy9c0000gn/T/ipykernel_8050/221146997.py\u001b[0m in \u001b[0;36m<module>\u001b[0;34m\u001b[0m\n\u001b[0;32m----> 1\u001b[0;31m \u001b[0mSA\u001b[0m\u001b[0;34m.\u001b[0m\u001b[0mhist_plot\u001b[0m\u001b[0;34m(\u001b[0m\u001b[0mBest_energy\u001b[0m\u001b[0;34m=\u001b[0m\u001b[0;32mTrue\u001b[0m\u001b[0;34m,\u001b[0m\u001b[0mCurr_energy\u001b[0m\u001b[0;34m=\u001b[0m\u001b[0;32mTrue\u001b[0m\u001b[0;34m,\u001b[0m\u001b[0mfreq_stuck\u001b[0m\u001b[0;34m=\u001b[0m\u001b[0;32mTrue\u001b[0m\u001b[0;34m,\u001b[0m\u001b[0mtitle\u001b[0m\u001b[0;34m=\u001b[0m\u001b[0;34m\"Quadratic Multiplicative Best Energy Plot\"\u001b[0m\u001b[0;34m)\u001b[0m\u001b[0;34m\u001b[0m\u001b[0;34m\u001b[0m\u001b[0m\n\u001b[0m",
      "\u001b[0;32m~/Desktop/coding/github/diagonal-magic-cube/simulated.py\u001b[0m in \u001b[0;36mhist_plot\u001b[0;34m(self, title, Curr_energy, Best_energy, freq_stuck)\u001b[0m\n\u001b[1;32m    230\u001b[0m     \u001b[0;32mdef\u001b[0m \u001b[0mhist_plot\u001b[0m\u001b[0;34m(\u001b[0m\u001b[0mself\u001b[0m\u001b[0;34m,\u001b[0m \u001b[0mtitle\u001b[0m\u001b[0;34m=\u001b[0m\u001b[0;32mNone\u001b[0m\u001b[0;34m,\u001b[0m \u001b[0mCurr_energy\u001b[0m\u001b[0;34m=\u001b[0m\u001b[0;32mTrue\u001b[0m\u001b[0;34m,\u001b[0m \u001b[0mBest_energy\u001b[0m\u001b[0;34m=\u001b[0m\u001b[0;32mTrue\u001b[0m\u001b[0;34m,\u001b[0m\u001b[0mfreq_stuck\u001b[0m \u001b[0;34m=\u001b[0m \u001b[0;32mFalse\u001b[0m\u001b[0;34m)\u001b[0m\u001b[0;34m:\u001b[0m\u001b[0;34m\u001b[0m\u001b[0;34m\u001b[0m\u001b[0m\n\u001b[1;32m    231\u001b[0m \u001b[0;34m\u001b[0m\u001b[0m\n\u001b[0;32m--> 232\u001b[0;31m         \u001b[0mhist\u001b[0m \u001b[0;34m=\u001b[0m \u001b[0mnp\u001b[0m\u001b[0;34m.\u001b[0m\u001b[0marray\u001b[0m\u001b[0;34m(\u001b[0m\u001b[0mself\u001b[0m\u001b[0;34m.\u001b[0m\u001b[0mhist\u001b[0m\u001b[0;34m)\u001b[0m\u001b[0;34m\u001b[0m\u001b[0;34m\u001b[0m\u001b[0m\n\u001b[0m\u001b[1;32m    233\u001b[0m \u001b[0;34m\u001b[0m\u001b[0m\n\u001b[1;32m    234\u001b[0m \u001b[0;34m\u001b[0m\u001b[0m\n",
      "\u001b[0;31mValueError\u001b[0m: setting an array element with a sequence. The requested array has an inhomogeneous shape after 2 dimensions. The detected shape was (99, 6) + inhomogeneous part."
     ]
    }
   ],
   "source": [
    "SA.hist_plot(Best_energy=True,Curr_energy=True,freq_stuck=False,title=\"Quadratic Multiplicative Best Energy Plot\")"
   ]
  },
  {
   "cell_type": "markdown",
   "metadata": {},
   "source": [
    "Probability"
   ]
  },
  {
   "cell_type": "code",
   "execution_count": null,
   "metadata": {},
   "outputs": [],
   "source": [
    "SA.prob_plot(title=\"Quadratic Multiplicative Probability Plot\")"
   ]
  },
  {
   "cell_type": "markdown",
   "metadata": {},
   "source": [
    "#### Results"
   ]
  },
  {
   "cell_type": "code",
   "execution_count": null,
   "metadata": {},
   "outputs": [],
   "source": [
    "SA.results()"
   ]
  },
  {
   "cell_type": "markdown",
   "metadata": {},
   "source": [
    "### Genetic Algorithm(NJ)\n"
   ]
  },
  {
   "cell_type": "code",
   "execution_count": null,
   "metadata": {},
   "outputs": [],
   "source": [
    "GAcube = copy.deepcopy(cube)"
   ]
  },
  {
   "cell_type": "code",
   "execution_count": null,
   "metadata": {},
   "outputs": [],
   "source": [
    "genetic_algo = GeneticAlgoNJ(\n",
    "    cube=GAcube,\n",
    "    population_size=500,\n",
    "    generation_rate=300,\n",
    "    mutation_rate=0.1,\n",
    "    elitism_size=10\n",
    ")"
   ]
  },
  {
   "cell_type": "code",
   "execution_count": null,
   "metadata": {},
   "outputs": [],
   "source": [
    "genetic_algo.evolve()"
   ]
  },
  {
   "cell_type": "code",
   "execution_count": null,
   "metadata": {},
   "outputs": [],
   "source": [
    "best_cube, best_fitness = genetic_algo.get_best_solution()\n",
    "\n",
    "# Plot the fitness evolution over generations\n",
    "genetic_algo.hist_plot()\n",
    "\n",
    "print(\"\\nBest Fitness:\", best_fitness)"
   ]
  }
 ],
 "metadata": {
  "kernelspec": {
   "display_name": "base",
   "language": "python",
   "name": "python3"
  },
  "language_info": {
   "codemirror_mode": {
    "name": "ipython",
    "version": 3
   },
   "file_extension": ".py",
   "mimetype": "text/x-python",
   "name": "python",
   "nbconvert_exporter": "python",
   "pygments_lexer": "ipython3",
   "version": "3.9.13"
  }
 },
 "nbformat": 4,
 "nbformat_minor": 2
}
