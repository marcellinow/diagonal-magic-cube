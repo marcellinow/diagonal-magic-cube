{
 "cells": [
  {
   "cell_type": "markdown",
   "metadata": {},
   "source": [
    "# Local Search Implementation on Diagonal Magic Cube\n",
    "## Made by:\n",
    "- Jeremy Deandito / 18222112 \n",
    "\n",
    "- Nathaniel Liady / 18222114\n",
    "\n",
    "- Gabriel Marcellino / 18222115\n",
    "\n",
    "- Nicolas Jeremy / 18222135"
   ]
  },
  {
   "cell_type": "markdown",
   "metadata": {},
   "source": [
    "## Import relevant libraries"
   ]
  },
  {
   "cell_type": "code",
   "execution_count": 1,
   "metadata": {},
   "outputs": [],
   "source": [
    "from tensor import *\n",
    "\n",
    "from simulated import *\n",
    "\n",
    "\n",
    "import numpy as np"
   ]
  },
  {
   "cell_type": "markdown",
   "metadata": {},
   "source": [
    "## Cube Initialization"
   ]
  },
  {
   "cell_type": "markdown",
   "metadata": {},
   "source": [
    "### Goal State\n",
    " Final state cube we are trying to achieve.<br><br> \n",
    " The ideal state"
   ]
  },
  {
   "cell_type": "code",
   "execution_count": 2,
   "metadata": {},
   "outputs": [],
   "source": [
    "goal_state = [\n",
    "\n",
    "# Level 1\n",
    "[\n",
    "    [33, 22, 113, 42, 105],\n",
    "    [2, 89, 106, 19, 99],\n",
    "    [85, 82, 4, 119, 25],\n",
    "    [98, 90, 6, 112, 9],\n",
    "    [97, 32, 86, 23, 77]\n",
    "],\n",
    "# Level 2\n",
    "[\n",
    "    [95, 80, 111, 11, 18],\n",
    "    [91, 55, 65, 69, 35],\n",
    "    [16, 66, 70, 53, 110],\n",
    "    [5, 68, 54, 67, 121],\n",
    "    [108, 46, 15, 115, 31]\n",
    "],\n",
    "# Level 3\n",
    "[\n",
    "    [100, 17, 48, 34, 116],\n",
    "    [114, 75, 52, 62, 12],\n",
    "    [83, 50, 63, 76, 43],\n",
    "    [8, 64, 74, 51, 118],\n",
    "    [10, 109, 78, 92, 26]\n",
    "],\n",
    "# Level 4\n",
    "[\n",
    "    [38, 102, 3, 125, 47],\n",
    "    [81, 59, 72, 58, 45],\n",
    "    [30, 73, 56, 60, 96],\n",
    "    [87, 57, 61, 71, 39],\n",
    "    [79, 24, 123, 1, 88]\n",
    "],\n",
    "# Level 5\n",
    "[\n",
    "    [49, 94, 40, 103, 29],\n",
    "    [27, 37, 20, 107, 124],\n",
    "    [101, 44, 122, 7, 41],\n",
    "    [117, 36, 120, 14, 28],\n",
    "    [21, 104, 13, 84, 93]\n",
    "]\n",
    "]"
   ]
  },
  {
   "cell_type": "code",
   "execution_count": 3,
   "metadata": {},
   "outputs": [],
   "source": [
    "goal_cube = Tensor(5,5,5,initial_array=goal_state)"
   ]
  },
  {
   "cell_type": "markdown",
   "metadata": {},
   "source": [
    "### Problem Cube Initialization"
   ]
  },
  {
   "cell_type": "code",
   "execution_count": 4,
   "metadata": {},
   "outputs": [],
   "source": [
    "problem_cube = Tensor(5,5,5)\n",
    "\n",
    "cube = problem_cube.initial_state()"
   ]
  },
  {
   "cell_type": "code",
   "execution_count": 5,
   "metadata": {},
   "outputs": [],
   "source": [
    "# cube.plot_cube()"
   ]
  },
  {
   "cell_type": "code",
   "execution_count": 6,
   "metadata": {},
   "outputs": [],
   "source": [
    "# cube.plot_per_level()"
   ]
  },
  {
   "cell_type": "code",
   "execution_count": 7,
   "metadata": {},
   "outputs": [
    {
     "name": "stdout",
     "output_type": "stream",
     "text": [
      "cube's objective function: 458446.0\n"
     ]
    }
   ],
   "source": [
    "obj_func = cube.objective_function()\n",
    "print(f\"cube's objective function: {obj_func}\")"
   ]
  },
  {
   "cell_type": "markdown",
   "metadata": {},
   "source": [
    "## Local Seach Implementation"
   ]
  },
  {
   "cell_type": "markdown",
   "metadata": {},
   "source": [
    "### Steepest Ascent Hill-Climbing"
   ]
  },
  {
   "cell_type": "code",
   "execution_count": null,
   "metadata": {},
   "outputs": [],
   "source": []
  },
  {
   "cell_type": "markdown",
   "metadata": {},
   "source": [
    "### Simulated Annealing"
   ]
  },
  {
   "cell_type": "code",
   "execution_count": null,
   "metadata": {},
   "outputs": [
    {
     "name": "stdout",
     "output_type": "stream",
     "text": [
      "Initial Energy: 458446.0\n",
      "\n",
      "e_n = 443213.0\n",
      "\n",
      "e_n = 433169.0\n",
      "\n",
      "e_n = 419260.0\n",
      "\n",
      "e_n = 415372.0\n",
      "\n",
      "e_n = 411244.0\n",
      "\n"
     ]
    }
   ],
   "source": [
    "SA = Simulated(cube,tmax=1000,step_max=1000000)"
   ]
  },
  {
   "cell_type": "code",
   "execution_count": 9,
   "metadata": {},
   "outputs": [
    {
     "name": "stdout",
     "output_type": "stream",
     "text": [
      "+------------------------ RESULTS -------------------------+\n",
      "\n",
      "cooling sched.: linear additive\n",
      "\n",
      "\n",
      "  initial temp: 100\n",
      "    final temp: 0.000000\n",
      "     max steps: 10000\n",
      "    final step: 10001\n",
      "\n",
      "  final energy: 411244.000000\n",
      "\n",
      "+-------------------------- END ---------------------------+\n"
     ]
    }
   ],
   "source": [
    "SA.results()"
   ]
  },
  {
   "cell_type": "markdown",
   "metadata": {},
   "source": [
    "### Genetic Algorithm\n"
   ]
  }
 ],
 "metadata": {
  "kernelspec": {
   "display_name": "base",
   "language": "python",
   "name": "python3"
  },
  "language_info": {
   "codemirror_mode": {
    "name": "ipython",
    "version": 3
   },
   "file_extension": ".py",
   "mimetype": "text/x-python",
   "name": "python",
   "nbconvert_exporter": "python",
   "pygments_lexer": "ipython3",
   "version": "3.9.13"
  }
 },
 "nbformat": 4,
 "nbformat_minor": 2
}
