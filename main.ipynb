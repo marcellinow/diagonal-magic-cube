{
 "cells": [
  {
   "cell_type": "markdown",
   "metadata": {},
   "source": [
    "# Local Search Implementation on Diagonal Magic Cube\n",
    "## by:\n",
    "- Jeremy Deandito / 18222112 \n",
    "\n",
    "- Nathaniel Liady / 18222114\n",
    "\n",
    "- Gabriel Marcellino / 18222115\n",
    "\n",
    "- Nicolas Jeremy / 18222135"
   ]
  },
  {
   "cell_type": "markdown",
   "metadata": {},
   "source": [
    "## Import relevant libraries"
   ]
  },
  {
   "cell_type": "code",
   "execution_count": null,
   "metadata": {},
   "outputs": [],
   "source": [
    "from tensor import *\n",
    "\n",
    "from Steepest import *\n",
    "from hill_climb import *\n",
    "from Sideway import *\n",
    "from random_restart import *\n",
    "from Simulated import *\n",
    "from genetic import *\n",
    "from geneticAlgoJere import *"
   ]
  },
  {
   "cell_type": "markdown",
   "metadata": {},
   "source": [
    "## Cube Initialization"
   ]
  },
  {
   "cell_type": "markdown",
   "metadata": {},
   "source": [
    "### Goal State\n",
    " Final state cube we are trying to achieve.<br><br> \n",
    " The ideal state"
   ]
  },
  {
   "cell_type": "code",
   "execution_count": null,
   "metadata": {},
   "outputs": [],
   "source": [
    "goal_state = [\n",
    "\n",
    "# Level 1\n",
    "[\n",
    "    [67,18,119,106,5],\n",
    "    [116,17,14,73,95],\n",
    "    [40,50,81,65,79],\n",
    "    [56,120,55,49,35],\n",
    "    [36,110,46,22,101]\n",
    "],\n",
    "# Level 2\n",
    "[\n",
    "    [66,72,27,102,48],\n",
    "    [26,39,92,44,114],\n",
    "    [32,93,88,83,19],\n",
    "    [113,57,9,62,74],\n",
    "    [78,54,99,24,60]\n",
    "],\n",
    "# Level 3\n",
    "[\n",
    "    [42,111,85,2,75],\n",
    "    [30,118,21,123,23],\n",
    "    [89,68,63,58,37],\n",
    "    [103,3,105,8,96],\n",
    "    [51,15,41,124,84]\n",
    "],\n",
    "# Level 4\n",
    "[\n",
    "    [115,98,4,1,97],\n",
    "    [52,64,117,69,13],\n",
    "    [107,43,38,33,94],\n",
    "    [12,82,34,87,100],\n",
    "    [29,28,122,125,11]\n",
    "],\n",
    "# Level 5\n",
    "[\n",
    "    [25,16,80,104,90],\n",
    "    [91,77,71,6,70],\n",
    "    [47,61,45,76,86],\n",
    "    [31,53,112,109,10],\n",
    "    [121,108,7,20,59]\n",
    "]\n",
    "]"
   ]
  },
  {
   "cell_type": "code",
   "execution_count": null,
   "metadata": {},
   "outputs": [],
   "source": [
    "goal_cube = Tensor(5,5,5,initial_array=goal_state)"
   ]
  },
  {
   "cell_type": "code",
   "execution_count": null,
   "metadata": {},
   "outputs": [],
   "source": [
    "obj_func_goal = goal_cube.objective_function()\n",
    "print(f\"goal cube objective function value: {obj_func_goal}\")"
   ]
  },
  {
   "cell_type": "code",
   "execution_count": null,
   "metadata": {},
   "outputs": [],
   "source": [
    "goal_cube.print_tensor()"
   ]
  },
  {
   "cell_type": "code",
   "execution_count": null,
   "metadata": {},
   "outputs": [],
   "source": [
    "goal_cube.plot_cube()"
   ]
  },
  {
   "cell_type": "markdown",
   "metadata": {},
   "source": [
    "### Problem Cube Initialization"
   ]
  },
  {
   "cell_type": "code",
   "execution_count": null,
   "metadata": {},
   "outputs": [],
   "source": [
    "problem_cube = Tensor(5,5,5)\n",
    "\n",
    "cube = problem_cube.initial_state()"
   ]
  },
  {
   "cell_type": "markdown",
   "metadata": {},
   "source": [
    "## Local Seach Implementation"
   ]
  },
  {
   "cell_type": "markdown",
   "metadata": {},
   "source": [
    "### Steepest Descent Hill-Climbing"
   ]
  },
  {
   "cell_type": "code",
   "execution_count": null,
   "metadata": {},
   "outputs": [],
   "source": [
    "hc_cube = copy.deepcopy(cube)\n",
    "hc_cube.plot_cube()"
   ]
  },
  {
   "cell_type": "code",
   "execution_count": null,
   "metadata": {},
   "outputs": [],
   "source": [
    "steepest = Steepest(hc_cube)"
   ]
  },
  {
   "cell_type": "code",
   "execution_count": null,
   "metadata": {},
   "outputs": [],
   "source": [
    "steepest.results()"
   ]
  },
  {
   "cell_type": "code",
   "execution_count": null,
   "metadata": {},
   "outputs": [],
   "source": [
    "steepest.hist_plot()"
   ]
  },
  {
   "cell_type": "markdown",
   "metadata": {},
   "source": [
    "### Hill-Climbing with Sideway Move"
   ]
  },
  {
   "cell_type": "code",
   "execution_count": null,
   "metadata": {},
   "outputs": [],
   "source": [
    "SM_cube = copy.deepcopy(cube)"
   ]
  },
  {
   "cell_type": "code",
   "execution_count": null,
   "metadata": {},
   "outputs": [],
   "source": [
    "sideway = Sideway(SM_cube)"
   ]
  },
  {
   "cell_type": "code",
   "execution_count": null,
   "metadata": {},
   "outputs": [],
   "source": [
    "sideway.results()"
   ]
  },
  {
   "cell_type": "markdown",
   "metadata": {},
   "source": [
    "### Random Restart Hill-Climbing\n"
   ]
  },
  {
   "cell_type": "code",
   "execution_count": null,
   "metadata": {},
   "outputs": [],
   "source": [
    "RR_cube = copy.deepcopy(cube)"
   ]
  },
  {
   "cell_type": "code",
   "execution_count": null,
   "metadata": {},
   "outputs": [],
   "source": [
    "RR_cube.plot_cube()"
   ]
  },
  {
   "cell_type": "code",
   "execution_count": null,
   "metadata": {},
   "outputs": [],
   "source": [
    "RR = Random_restart(cube=RR_cube,max_restart=100)"
   ]
  },
  {
   "cell_type": "code",
   "execution_count": null,
   "metadata": {},
   "outputs": [],
   "source": [
    "RR.results()"
   ]
  },
  {
   "cell_type": "code",
   "execution_count": null,
   "metadata": {},
   "outputs": [],
   "source": [
    "# print(f\"Random Restart Best Value: {RR.best_value}\\n\")\n",
    "# print(f\"Ideal Value: {obj_func_goal}\\n\")\n",
    "# print(f\"differences from ideal: {RR.best_value - obj_func_goal}\")"
   ]
  },
  {
   "cell_type": "code",
   "execution_count": null,
   "metadata": {},
   "outputs": [],
   "source": [
    "RR.hist_plot()"
   ]
  },
  {
   "cell_type": "code",
   "execution_count": null,
   "metadata": {},
   "outputs": [],
   "source": [
    "RR.final_state().plot_cube()"
   ]
  },
  {
   "cell_type": "markdown",
   "metadata": {},
   "source": [
    "### Simulated Annealing"
   ]
  },
  {
   "cell_type": "markdown",
   "metadata": {},
   "source": [
    "#### Initial State"
   ]
  },
  {
   "cell_type": "code",
   "execution_count": null,
   "metadata": {},
   "outputs": [],
   "source": [
    "SA_cube = copy.deepcopy(cube)"
   ]
  },
  {
   "cell_type": "code",
   "execution_count": null,
   "metadata": {},
   "outputs": [],
   "source": [
    "SA_cube.plot_cube()"
   ]
  },
  {
   "cell_type": "code",
   "execution_count": null,
   "metadata": {},
   "outputs": [],
   "source": [
    "print(f\"intial objective function: {SA_cube.objective_function(square_error=False)}\")"
   ]
  },
  {
   "cell_type": "markdown",
   "metadata": {},
   "source": [
    "#### Searching"
   ]
  },
  {
   "cell_type": "code",
   "execution_count": null,
   "metadata": {},
   "outputs": [],
   "source": [
    "SA = Simulated(cube=SA_cube,tmax=500000,tmin=0,step_max=200,cooling_schedule=\"quadratic\",alpha=0.99,greedy_move=False,function_error='absolute')"
   ]
  },
  {
   "cell_type": "markdown",
   "metadata": {},
   "source": [
    "#### Result"
   ]
  },
  {
   "cell_type": "code",
   "execution_count": null,
   "metadata": {},
   "outputs": [],
   "source": [
    "SA.results()"
   ]
  },
  {
   "cell_type": "code",
   "execution_count": null,
   "metadata": {},
   "outputs": [],
   "source": [
    "SA.final_state().plot_cube()"
   ]
  },
  {
   "cell_type": "markdown",
   "metadata": {},
   "source": [
    "#### Plot"
   ]
  },
  {
   "cell_type": "markdown",
   "metadata": {},
   "source": [
    "Best Energy "
   ]
  },
  {
   "cell_type": "code",
   "execution_count": null,
   "metadata": {},
   "outputs": [],
   "source": [
    "SA.hist_plot(Best_energy=True,Curr_energy=True,freq_stuck=False,title=\"Simulated Annealing Energy Plot\")"
   ]
  },
  {
   "cell_type": "markdown",
   "metadata": {},
   "source": [
    "Probability"
   ]
  },
  {
   "cell_type": "code",
   "execution_count": null,
   "metadata": {},
   "outputs": [],
   "source": [
    "SA.prob_plot(title=\"Simulated Annealing Probability Plot\")"
   ]
  },
  {
   "cell_type": "markdown",
   "metadata": {},
   "source": [
    "### Genetic Algorithm\n"
   ]
  },
  {
   "cell_type": "code",
   "execution_count": null,
   "metadata": {},
   "outputs": [],
   "source": [
    "print(f\"goal cube objective function value: {obj_func_goal}\")"
   ]
  },
  {
   "cell_type": "code",
   "execution_count": null,
   "metadata": {},
   "outputs": [],
   "source": [
    "GAcube = copy.deepcopy(cube)\n",
    "GAcube.plot_cube()"
   ]
  },
  {
   "cell_type": "code",
   "execution_count": null,
   "metadata": {},
   "outputs": [],
   "source": [
    "genetic_algo = GeneticAlgoNJ(\n",
    "    cube=GAcube,\n",
    "    population_size=500,\n",
    "    generation_rate=300,\n",
    "    mutation_rate=0.1,\n",
    "    elitism_size=10\n",
    ")"
   ]
  },
  {
   "cell_type": "code",
   "execution_count": null,
   "metadata": {},
   "outputs": [],
   "source": [
    "genetic_algo.evolve()"
   ]
  },
  {
   "cell_type": "code",
   "execution_count": null,
   "metadata": {},
   "outputs": [],
   "source": [
    "best_cube, best_fitness = genetic_algo.get_best_solution()\n",
    "\n",
    "# Plot the fitness evolution over generations\n",
    "genetic_algo.hist_plot()\n",
    "\n",
    "print(\"\\nBest Fitness:\", best_fitness)"
   ]
  },
  {
   "cell_type": "code",
   "execution_count": null,
   "metadata": {},
   "outputs": [],
   "source": [
    "GA=GeneticAlgo(cube=copy.deepcopy(cube), goal_cube=goal_cube, population_size=500, generation_rate=300)"
   ]
  },
  {
   "cell_type": "code",
   "execution_count": null,
   "metadata": {},
   "outputs": [],
   "source": [
    "GA.hist_plot()"
   ]
  }
 ],
 "metadata": {
  "kernelspec": {
   "display_name": "Python 3",
   "language": "python",
   "name": "python3"
  },
  "language_info": {
   "codemirror_mode": {
    "name": "ipython",
    "version": 3
   },
   "file_extension": ".py",
   "mimetype": "text/x-python",
   "name": "python",
   "nbconvert_exporter": "python",
   "pygments_lexer": "ipython3",
   "version": "3.10.11"
  }
 },
 "nbformat": 4,
 "nbformat_minor": 2
}
