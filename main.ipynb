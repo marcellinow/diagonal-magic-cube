{
 "cells": [
  {
   "cell_type": "markdown",
   "metadata": {},
   "source": [
    "# Local Search Implementation on Diagonal Magic Cube\n",
    "## Made by:\n",
    "- Jeremy Deandito / 18222112 \n",
    "\n",
    "- Nathaniel Liady / 18222114\n",
    "\n",
    "- Gabriel Marcellino / 18222115\n",
    "\n",
    "- Nicolas Jeremy / 18222135"
   ]
  },
  {
   "cell_type": "markdown",
   "metadata": {},
   "source": [
    "## Import relevant libraries"
   ]
  },
  {
   "cell_type": "code",
   "execution_count": 1,
   "metadata": {},
   "outputs": [],
   "source": [
    "from tensor import *\n",
    "\n",
    "from simulated import *\n",
    "from hill_climb import *\n",
    "from random_restart import *\n",
    "from genetic import *\n",
    "from geneticAlgoJere import *\n",
    "\n",
    "\n",
    "import numpy as np"
   ]
  },
  {
   "cell_type": "markdown",
   "metadata": {},
   "source": [
    "## Cube Initialization"
   ]
  },
  {
   "cell_type": "markdown",
   "metadata": {},
   "source": [
    "### Goal State\n",
    " Final state cube we are trying to achieve.<br><br> \n",
    " The ideal state"
   ]
  },
  {
   "cell_type": "code",
   "execution_count": 2,
   "metadata": {},
   "outputs": [],
   "source": [
    "goal_state = [\n",
    "\n",
    "# Level 1\n",
    "[\n",
    "    [67,18,119,106,5],\n",
    "    [116,17,14,73,95],\n",
    "    [40,50,81,65,79],\n",
    "    [56,120,55,49,35],\n",
    "    [36,110,46,22,101]\n",
    "],\n",
    "# Level 2\n",
    "[\n",
    "    [66,72,27,102,48],\n",
    "    [26,39,92,44,114],\n",
    "    [32,93,88,83,19],\n",
    "    [113,57,9,62,74],\n",
    "    [78,54,99,24,60]\n",
    "],\n",
    "# Level 3\n",
    "[\n",
    "    [42,111,85,2,75],\n",
    "    [30,118,21,123,23],\n",
    "    [89,68,63,58,37],\n",
    "    [103,3,105,8,96],\n",
    "    [51,15,41,124,84]\n",
    "],\n",
    "# Level 4\n",
    "[\n",
    "    [115,98,4,1,97],\n",
    "    [52,64,117,69,13],\n",
    "    [107,43,38,33,94],\n",
    "    [12,82,34,87,100],\n",
    "    [29,28,122,125,11]\n",
    "],\n",
    "# Level 5\n",
    "[\n",
    "    [25,16,80,104,90],\n",
    "    [91,77,71,6,70],\n",
    "    [47,61,45,76,86],\n",
    "    [31,53,112,109,10],\n",
    "    [121,108,7,20,59]\n",
    "]\n",
    "]"
   ]
  },
  {
   "cell_type": "code",
   "execution_count": 3,
   "metadata": {},
   "outputs": [],
   "source": [
    "goal_cube = Tensor(5,5,5,initial_array=goal_state)"
   ]
  },
  {
   "cell_type": "code",
   "execution_count": 4,
   "metadata": {},
   "outputs": [
    {
     "name": "stdout",
     "output_type": "stream",
     "text": [
      "goal cube objective function value: 0.0\n"
     ]
    }
   ],
   "source": [
    "obj_func_goal = goal_cube.objective_function()\n",
    "print(f\"goal cube objective function value: {obj_func_goal}\")"
   ]
  },
  {
   "cell_type": "markdown",
   "metadata": {},
   "source": [
    "### Problem Cube Initialization"
   ]
  },
  {
   "cell_type": "code",
   "execution_count": 5,
   "metadata": {},
   "outputs": [],
   "source": [
    "problem_cube = Tensor(5,5,5)\n",
    "\n",
    "cube = problem_cube.initial_state()"
   ]
  },
  {
   "cell_type": "markdown",
   "metadata": {},
   "source": [
    "## Local Seach Implementation"
   ]
  },
  {
   "cell_type": "markdown",
   "metadata": {},
   "source": [
    "### Random Restart Hill-Climbing\n"
   ]
  },
  {
   "cell_type": "code",
   "execution_count": null,
   "metadata": {},
   "outputs": [],
   "source": [
    "print(f\"ideal objective function {obj_func_goal}\")"
   ]
  },
  {
   "cell_type": "code",
   "execution_count": null,
   "metadata": {},
   "outputs": [],
   "source": [
    "RR = Random_restart(cube=cube,max_restart=100)"
   ]
  },
  {
   "cell_type": "code",
   "execution_count": null,
   "metadata": {},
   "outputs": [],
   "source": [
    "RR.results()"
   ]
  },
  {
   "cell_type": "code",
   "execution_count": null,
   "metadata": {},
   "outputs": [],
   "source": [
    "print(f\"Random Restart Best Value: {RR.best_value}\\n\")\n",
    "print(f\"Ideal Value: {obj_func_goal}\\n\")\n",
    "print(f\"differences from ideal: {RR.best_value - obj_func_goal}\")"
   ]
  },
  {
   "cell_type": "code",
   "execution_count": null,
   "metadata": {},
   "outputs": [],
   "source": [
    "RR.hist_plot()"
   ]
  },
  {
   "cell_type": "markdown",
   "metadata": {},
   "source": [
    "### Simulated Annealing"
   ]
  },
  {
   "cell_type": "markdown",
   "metadata": {},
   "source": [
    "#### Initial State"
   ]
  },
  {
   "cell_type": "code",
   "execution_count": null,
   "metadata": {},
   "outputs": [],
   "source": [
    "quadratica_cube = copy.deepcopy(cube)\n",
    "SA_cube = copy.deepcopy(cube)"
   ]
  },
  {
   "cell_type": "markdown",
   "metadata": {},
   "source": [
    "#### Searching"
   ]
  },
  {
   "cell_type": "code",
   "execution_count": null,
   "metadata": {},
   "outputs": [],
   "source": [
    "SA = Simulated(cube=SA_cube,tmax=500000,step_max=5000,cooling_schedule=\"quadratic\",alpha=0.99)"
   ]
  },
  {
   "cell_type": "markdown",
   "metadata": {},
   "source": [
    "#### Plot"
   ]
  },
  {
   "cell_type": "markdown",
   "metadata": {},
   "source": [
    "Best Energy "
   ]
  },
  {
   "cell_type": "code",
   "execution_count": null,
   "metadata": {},
   "outputs": [],
   "source": [
    "SA_QuadraticA.hist_plot(Curr_energy=False,title=\"Quadratic Additive Best Energy Plot\")\n",
    "SA.hist_plot(Best_energy=False,title=\"Quadratic Multiplicative Best Energy Plot\")"
   ]
  },
  {
   "cell_type": "markdown",
   "metadata": {},
   "source": [
    "Probability"
   ]
  },
  {
   "cell_type": "code",
   "execution_count": null,
   "metadata": {},
   "outputs": [],
   "source": [
    "SA.prob_plot(title=\"Quadratic Multiplicative Probability Plot\")"
   ]
  },
  {
   "cell_type": "markdown",
   "metadata": {},
   "source": [
    "#### Results"
   ]
  },
  {
   "cell_type": "code",
   "execution_count": null,
   "metadata": {},
   "outputs": [],
   "source": [
    "SA.results()"
   ]
  },
  {
   "cell_type": "markdown",
   "metadata": {},
   "source": [
    "### Genetic Algorithm(NJ)\n"
   ]
  },
  {
   "cell_type": "code",
   "execution_count": null,
   "metadata": {},
   "outputs": [],
   "source": [
    "GAcube = copy.deepcopy(cube)"
   ]
  },
  {
   "cell_type": "code",
   "execution_count": null,
   "metadata": {},
   "outputs": [],
   "source": [
    "genetic_algo = GeneticAlgoNJ(\n",
    "    cube=GAcube,\n",
    "    population_size=500,\n",
    "    generation_rate=300,\n",
    "    mutation_rate=0.1,\n",
    "    elitism_size=10\n",
    ")"
   ]
  },
  {
   "cell_type": "code",
   "execution_count": null,
   "metadata": {},
   "outputs": [],
   "source": [
    "genetic_algo.evolve()"
   ]
  },
  {
   "cell_type": "code",
   "execution_count": null,
   "metadata": {},
   "outputs": [],
   "source": [
    "best_cube, best_fitness = genetic_algo.get_best_solution()\n",
    "\n",
    "# Plot the fitness evolution over generations\n",
    "genetic_algo.hist_plot()\n",
    "\n",
    "print(\"\\nBest Fitness:\", best_fitness)"
   ]
  },
  {
   "cell_type": "markdown",
   "metadata": {},
   "source": [
    "### Genetic Algorithm(Jere)\n"
   ]
  },
  {
   "cell_type": "code",
   "execution_count": 20,
   "metadata": {},
   "outputs": [
    {
     "name": "stdout",
     "output_type": "stream",
     "text": [
      "ideal objective function 0.0\n"
     ]
    }
   ],
   "source": [
    "print(f\"ideal objective function {obj_func_goal}\")"
   ]
  },
  {
   "cell_type": "code",
   "execution_count": 21,
   "metadata": {},
   "outputs": [
    {
     "name": "stdout",
     "output_type": "stream",
     "text": [
      "Generating initial population...\n",
      "Initial Population Generated with size:  500\n",
      "Generation:  1 Fitness:  378269.0\n",
      "Generation:  2 Fitness:  354387.0\n",
      "Generation:  3 Fitness:  335619.0\n",
      "Generation:  4 Fitness:  309630.0\n",
      "Generation:  5 Fitness:  294334.0\n",
      "Generation:  6 Fitness:  279856.0\n",
      "Generation:  7 Fitness:  259728.0\n",
      "Generation:  8 Fitness:  247183.0\n",
      "Generation:  9 Fitness:  224764.0\n",
      "Generation:  10 Fitness:  214811.0\n",
      "Generation:  11 Fitness:  202732.0\n",
      "Generation:  12 Fitness:  191227.0\n",
      "Generation:  13 Fitness:  181669.0\n",
      "Generation:  14 Fitness:  168404.0\n",
      "Generation:  15 Fitness:  159284.0\n",
      "Generation:  16 Fitness:  148871.0\n",
      "Generation:  17 Fitness:  141767.0\n",
      "Generation:  18 Fitness:  133856.0\n",
      "Generation:  19 Fitness:  125816.0\n",
      "Generation:  20 Fitness:  120216.0\n",
      "Generation:  21 Fitness:  113859.0\n",
      "Generation:  22 Fitness:  107232.0\n",
      "Generation:  23 Fitness:  100404.0\n",
      "Generation:  24 Fitness:  94564.0\n",
      "Generation:  25 Fitness:  88552.0\n",
      "Generation:  26 Fitness:  82480.0\n",
      "Generation:  27 Fitness:  77528.0\n",
      "Generation:  28 Fitness:  72540.0\n",
      "Generation:  29 Fitness:  67605.0\n",
      "Generation:  30 Fitness:  64173.0\n",
      "Generation:  31 Fitness:  58258.0\n",
      "Generation:  32 Fitness:  53915.0\n",
      "Generation:  33 Fitness:  50577.0\n",
      "Generation:  34 Fitness:  48209.0\n",
      "Generation:  35 Fitness:  43794.0\n",
      "Generation:  36 Fitness:  40954.0\n",
      "Generation:  37 Fitness:  39008.0\n",
      "Generation:  38 Fitness:  37426.0\n",
      "Generation:  39 Fitness:  35283.0\n",
      "Generation:  40 Fitness:  31668.0\n",
      "Generation:  41 Fitness:  30528.0\n",
      "Generation:  42 Fitness:  29124.0\n",
      "Generation:  43 Fitness:  27284.0\n",
      "Generation:  44 Fitness:  25353.0\n",
      "Generation:  45 Fitness:  23715.0\n",
      "Generation:  46 Fitness:  22763.0\n",
      "Generation:  47 Fitness:  21905.0\n",
      "Generation:  48 Fitness:  20878.0\n",
      "Generation:  49 Fitness:  19870.0\n",
      "Generation:  50 Fitness:  18814.0\n",
      "Generation:  51 Fitness:  17806.0\n",
      "Generation:  52 Fitness:  16861.0\n",
      "Generation:  53 Fitness:  16289.0\n",
      "Generation:  54 Fitness:  15739.0\n",
      "Generation:  55 Fitness:  15079.0\n",
      "Generation:  56 Fitness:  14479.0\n",
      "Generation:  57 Fitness:  13715.0\n",
      "Generation:  58 Fitness:  12991.0\n",
      "Generation:  59 Fitness:  12619.0\n",
      "Generation:  60 Fitness:  11947.0\n",
      "Generation:  61 Fitness:  11497.0\n",
      "Generation:  62 Fitness:  11173.0\n",
      "Generation:  63 Fitness:  10736.0\n",
      "Generation:  64 Fitness:  10460.0\n",
      "Generation:  65 Fitness:  10120.0\n",
      "Generation:  66 Fitness:  9812.0\n",
      "Generation:  67 Fitness:  9524.0\n",
      "Generation:  68 Fitness:  9090.0\n",
      "Generation:  69 Fitness:  8712.0\n",
      "Generation:  70 Fitness:  8376.0\n",
      "Generation:  71 Fitness:  8016.0\n",
      "Generation:  72 Fitness:  7656.0\n",
      "Generation:  73 Fitness:  7296.0\n",
      "Generation:  74 Fitness:  7128.0\n",
      "Generation:  75 Fitness:  6889.0\n",
      "Generation:  76 Fitness:  6569.0\n",
      "Generation:  77 Fitness:  6309.0\n",
      "Generation:  78 Fitness:  6092.0\n",
      "Generation:  79 Fitness:  5840.0\n",
      "Generation:  80 Fitness:  5619.0\n",
      "Generation:  81 Fitness:  5334.0\n",
      "Generation:  82 Fitness:  5028.0\n",
      "Generation:  83 Fitness:  4608.0\n",
      "Generation:  84 Fitness:  4368.0\n",
      "Generation:  85 Fitness:  4284.0\n",
      "Generation:  86 Fitness:  4124.0\n",
      "Generation:  87 Fitness:  3908.0\n",
      "Generation:  88 Fitness:  3636.0\n",
      "Generation:  89 Fitness:  3528.0\n",
      "Generation:  90 Fitness:  3440.0\n",
      "Generation:  91 Fitness:  3319.0\n",
      "Generation:  92 Fitness:  3174.0\n",
      "Generation:  93 Fitness:  3052.0\n",
      "Generation:  94 Fitness:  2793.0\n",
      "Generation:  95 Fitness:  2673.0\n",
      "Generation:  96 Fitness:  2521.0\n",
      "Generation:  97 Fitness:  2406.0\n",
      "Generation:  98 Fitness:  2358.0\n",
      "Generation:  99 Fitness:  2292.0\n",
      "Generation:  100 Fitness:  2210.0\n",
      "Generation:  101 Fitness:  2088.0\n",
      "Generation:  102 Fitness:  1976.0\n",
      "Generation:  103 Fitness:  1928.0\n",
      "Generation:  104 Fitness:  1868.0\n",
      "Generation:  105 Fitness:  1820.0\n",
      "Generation:  106 Fitness:  1796.0\n",
      "Generation:  107 Fitness:  1731.0\n",
      "Generation:  108 Fitness:  1711.0\n",
      "Generation:  109 Fitness:  1669.0\n",
      "Generation:  110 Fitness:  1629.0\n",
      "Generation:  111 Fitness:  1566.0\n",
      "Generation:  112 Fitness:  1524.0\n",
      "Generation:  113 Fitness:  1489.0\n",
      "Generation:  114 Fitness:  1460.0\n",
      "Generation:  115 Fitness:  1430.0\n",
      "Generation:  116 Fitness:  1400.0\n",
      "Generation:  117 Fitness:  1328.0\n",
      "Generation:  118 Fitness:  1280.0\n",
      "Generation:  119 Fitness:  1252.0\n",
      "Generation:  120 Fitness:  1198.0\n",
      "Generation:  121 Fitness:  1174.0\n",
      "Generation:  122 Fitness:  1144.0\n",
      "Generation:  123 Fitness:  1129.0\n",
      "Generation:  124 Fitness:  1109.0\n",
      "Generation:  125 Fitness:  1051.0\n",
      "Generation:  126 Fitness:  1035.0\n",
      "Generation:  127 Fitness:  1007.0\n",
      "Generation:  128 Fitness:  986.0\n",
      "Generation:  129 Fitness:  946.0\n",
      "Generation:  130 Fitness:  931.0\n",
      "Generation:  131 Fitness:  903.0\n",
      "Generation:  132 Fitness:  879.0\n",
      "Generation:  133 Fitness:  847.0\n",
      "Generation:  134 Fitness:  819.0\n",
      "Generation:  135 Fitness:  795.0\n",
      "Generation:  136 Fitness:  778.0\n",
      "Generation:  137 Fitness:  763.0\n",
      "Generation:  138 Fitness:  721.0\n",
      "Generation:  139 Fitness:  706.0\n",
      "Generation:  140 Fitness:  691.0\n",
      "Generation:  141 Fitness:  675.0\n",
      "Generation:  142 Fitness:  663.0\n",
      "Generation:  143 Fitness:  663.0\n",
      "Generation:  144 Fitness:  655.0\n",
      "Generation:  145 Fitness:  613.0\n",
      "Generation:  146 Fitness:  601.0\n",
      "Generation:  147 Fitness:  584.0\n",
      "Generation:  148 Fitness:  568.0\n",
      "Generation:  149 Fitness:  560.0\n",
      "Generation:  150 Fitness:  545.0\n",
      "Generation:  151 Fitness:  537.0\n",
      "Generation:  152 Fitness:  509.0\n",
      "Generation:  153 Fitness:  503.0\n",
      "Generation:  154 Fitness:  495.0\n",
      "Generation:  155 Fitness:  474.0\n",
      "Generation:  156 Fitness:  466.0\n",
      "Generation:  157 Fitness:  458.0\n",
      "Generation:  158 Fitness:  454.0\n",
      "Generation:  159 Fitness:  446.0\n",
      "Generation:  160 Fitness:  431.0\n",
      "Generation:  161 Fitness:  417.0\n",
      "Generation:  162 Fitness:  396.0\n",
      "Generation:  163 Fitness:  384.0\n",
      "Generation:  164 Fitness:  380.0\n",
      "Generation:  165 Fitness:  368.0\n",
      "Generation:  166 Fitness:  364.0\n",
      "Generation:  167 Fitness:  360.0\n",
      "Generation:  168 Fitness:  353.0\n",
      "Generation:  169 Fitness:  346.0\n",
      "Generation:  170 Fitness:  336.0\n",
      "Generation:  171 Fitness:  334.0\n",
      "Generation:  172 Fitness:  331.0\n",
      "Generation:  173 Fitness:  328.0\n",
      "Generation:  174 Fitness:  322.0\n",
      "Generation:  175 Fitness:  318.0\n",
      "Generation:  176 Fitness:  308.0\n",
      "Generation:  177 Fitness:  301.0\n",
      "Generation:  178 Fitness:  297.0\n",
      "Generation:  179 Fitness:  288.0\n",
      "Generation:  180 Fitness:  280.0\n",
      "Generation:  181 Fitness:  274.0\n",
      "Generation:  182 Fitness:  266.0\n",
      "Generation:  183 Fitness:  258.0\n",
      "Generation:  184 Fitness:  254.0\n",
      "Generation:  185 Fitness:  253.0\n",
      "Generation:  186 Fitness:  247.0\n",
      "Generation:  187 Fitness:  238.0\n",
      "Generation:  188 Fitness:  233.0\n",
      "Generation:  189 Fitness:  233.0\n",
      "Generation:  190 Fitness:  232.0\n",
      "Generation:  191 Fitness:  230.0\n",
      "Generation:  192 Fitness:  224.0\n",
      "Generation:  193 Fitness:  219.0\n",
      "Generation:  194 Fitness:  217.0\n",
      "Generation:  195 Fitness:  214.0\n",
      "Generation:  196 Fitness:  212.0\n",
      "Generation:  197 Fitness:  211.0\n",
      "Generation:  198 Fitness:  203.0\n",
      "Generation:  199 Fitness:  199.0\n",
      "Generation:  200 Fitness:  198.0\n",
      "Generation:  201 Fitness:  193.0\n",
      "Generation:  202 Fitness:  191.0\n",
      "Generation:  203 Fitness:  187.0\n",
      "Generation:  204 Fitness:  179.0\n",
      "Generation:  205 Fitness:  175.0\n",
      "Generation:  206 Fitness:  175.0\n",
      "Generation:  207 Fitness:  175.0\n",
      "Generation:  208 Fitness:  173.0\n",
      "Generation:  209 Fitness:  171.0\n",
      "Generation:  210 Fitness:  170.0\n",
      "Generation:  211 Fitness:  165.0\n",
      "Generation:  212 Fitness:  162.0\n",
      "Generation:  213 Fitness:  160.0\n",
      "Generation:  214 Fitness:  158.0\n",
      "Generation:  215 Fitness:  152.0\n",
      "Generation:  216 Fitness:  152.0\n",
      "Generation:  217 Fitness:  151.0\n",
      "Generation:  218 Fitness:  151.0\n",
      "Generation:  219 Fitness:  147.0\n",
      "Generation:  220 Fitness:  145.0\n",
      "Generation:  221 Fitness:  144.0\n",
      "Generation:  222 Fitness:  144.0\n",
      "Generation:  223 Fitness:  142.0\n",
      "Generation:  224 Fitness:  139.0\n",
      "Generation:  225 Fitness:  138.0\n",
      "Generation:  226 Fitness:  138.0\n",
      "Generation:  227 Fitness:  138.0\n",
      "Generation:  228 Fitness:  134.0\n",
      "Generation:  229 Fitness:  131.0\n",
      "Generation:  230 Fitness:  126.0\n",
      "Generation:  231 Fitness:  125.0\n",
      "Generation:  232 Fitness:  121.0\n",
      "Generation:  233 Fitness:  120.0\n",
      "Generation:  234 Fitness:  120.0\n",
      "Generation:  235 Fitness:  120.0\n",
      "Generation:  236 Fitness:  117.0\n",
      "Generation:  237 Fitness:  113.0\n",
      "Generation:  238 Fitness:  112.0\n",
      "Generation:  239 Fitness:  112.0\n",
      "Generation:  240 Fitness:  111.0\n",
      "Generation:  241 Fitness:  111.0\n",
      "Generation:  242 Fitness:  110.0\n",
      "Generation:  243 Fitness:  109.0\n",
      "Generation:  244 Fitness:  107.0\n",
      "Generation:  245 Fitness:  103.0\n",
      "Generation:  246 Fitness:  103.0\n",
      "Generation:  247 Fitness:  103.0\n",
      "Generation:  248 Fitness:  99.0\n",
      "Generation:  249 Fitness:  96.0\n",
      "Generation:  250 Fitness:  96.0\n",
      "Generation:  251 Fitness:  96.0\n",
      "Generation:  252 Fitness:  93.0\n",
      "Generation:  253 Fitness:  93.0\n",
      "Generation:  254 Fitness:  91.0\n",
      "Generation:  255 Fitness:  89.0\n",
      "Generation:  256 Fitness:  89.0\n",
      "Generation:  257 Fitness:  84.0\n",
      "Generation:  258 Fitness:  84.0\n",
      "Generation:  259 Fitness:  81.0\n",
      "Generation:  260 Fitness:  81.0\n",
      "Generation:  261 Fitness:  81.0\n",
      "Generation:  262 Fitness:  80.0\n",
      "Generation:  263 Fitness:  80.0\n",
      "Generation:  264 Fitness:  80.0\n",
      "Generation:  265 Fitness:  80.0\n",
      "Generation:  266 Fitness:  79.0\n",
      "Generation:  267 Fitness:  78.0\n",
      "Generation:  268 Fitness:  78.0\n",
      "Generation:  269 Fitness:  78.0\n",
      "Generation:  270 Fitness:  78.0\n",
      "Generation:  271 Fitness:  78.0\n",
      "Generation:  272 Fitness:  78.0\n",
      "Generation:  273 Fitness:  78.0\n",
      "Generation:  274 Fitness:  77.0\n",
      "Generation:  275 Fitness:  77.0\n",
      "Generation:  276 Fitness:  77.0\n",
      "Generation:  277 Fitness:  77.0\n",
      "Generation:  278 Fitness:  76.0\n",
      "Generation:  279 Fitness:  74.0\n",
      "Generation:  280 Fitness:  74.0\n",
      "Generation:  281 Fitness:  74.0\n",
      "Generation:  282 Fitness:  74.0\n",
      "Generation:  283 Fitness:  74.0\n",
      "Generation:  284 Fitness:  72.0\n",
      "Generation:  285 Fitness:  71.0\n",
      "Generation:  286 Fitness:  69.0\n",
      "Generation:  287 Fitness:  68.0\n",
      "Generation:  288 Fitness:  68.0\n",
      "Generation:  289 Fitness:  68.0\n",
      "Generation:  290 Fitness:  68.0\n",
      "Generation:  291 Fitness:  68.0\n",
      "Generation:  292 Fitness:  68.0\n",
      "Generation:  293 Fitness:  67.0\n",
      "Generation:  294 Fitness:  67.0\n",
      "Generation:  295 Fitness:  65.0\n",
      "Generation:  296 Fitness:  63.0\n",
      "Generation:  297 Fitness:  59.0\n",
      "Generation:  298 Fitness:  59.0\n",
      "Generation:  299 Fitness:  59.0\n",
      "Generation:  300 Fitness:  59.0\n",
      "Best solution found:\n",
      "Level 1: \n",
      "\n",
      "[69 17 98 52 81]\n",
      "[ 41  64 104  35  71]\n",
      "[ 47  77  23  66 101]\n",
      "[ 92 109  11 100   3]\n",
      "[67 48 79 62 59]\n",
      "\n",
      "Level 2: \n",
      "\n",
      "[  7  85  45 124  54]\n",
      "[ 64  69  31  49 102]\n",
      "[ 83  44  88 100   1]\n",
      "[88 52 91 38 45]\n",
      "[ 73  66  60   4 113]\n",
      "\n",
      "Level 3: \n",
      "\n",
      "[89 56 68 50 52]\n",
      "[  8  32 110  54 110]\n",
      "[57 96 76 86  0]\n",
      "[ 36   9  62  87 121]\n",
      "[125 121   0  37  32]\n",
      "\n",
      "Level 4: \n",
      "\n",
      "[ 46 106  90  19  54]\n",
      "[ 89 100  23  84  19]\n",
      "[ 63   9  78  50 114]\n",
      "[96 77 29 39 75]\n",
      "[ 21  23  95 123  52]\n",
      "\n",
      "Level 5: \n",
      "\n",
      "[105  51  15  70  74]\n",
      "[113  49  47  94  12]\n",
      "[65 89 50 12 99]\n",
      "[  3  69 122  51  70]\n",
      "[29 57 81 89 59]\n",
      "\n",
      "Fitness: 59.0\n"
     ]
    }
   ],
   "source": [
    "GA = GeneticAlgo(cube=cube, goal_cube=goal_cube, population_size=500, generation_rate=300)"
   ]
  },
  {
   "cell_type": "code",
   "execution_count": 22,
   "metadata": {},
   "outputs": [
    {
     "data": {
      "image/png": "[encoded data removed]",
      "text/plain": [
       "<Figure size 1000x500 with 1 Axes>"
      ]
     },
     "metadata": {},
     "output_type": "display_data"
    }
   ],
   "source": [
    "GA.hist_plot()"
   ]
  }
 ],
 "metadata": {
  "kernelspec": {
   "display_name": "Python 3",
   "language": "python",
   "name": "python3"
  },
  "language_info": {
   "codemirror_mode": {
    "name": "ipython",
    "version": 3
   },
   "file_extension": ".py",
   "mimetype": "text/x-python",
   "name": "python",
   "nbconvert_exporter": "python",
   "pygments_lexer": "ipython3",
   "version": "3.10.11"
  }
 },
 "nbformat": 4,
 "nbformat_minor": 2
}
