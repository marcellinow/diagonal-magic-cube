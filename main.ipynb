{
 "cells": [
  {
   "cell_type": "markdown",
   "metadata": {},
   "source": [
    "# Local Search Implementation on Diagonal Magic Cube\n",
    "## Made by:\n",
    "- Jeremy Deandito / 18222112 \n",
    "\n",
    "- Nathaniel Liady / 18222114\n",
    "\n",
    "- Gabriel Marcellino / 18222115\n",
    "\n",
    "- Nicolas Jeremy / 18222135"
   ]
  },
  {
   "cell_type": "markdown",
   "metadata": {},
   "source": [
    "## Import relevant libraries"
   ]
  },
  {
   "cell_type": "code",
   "execution_count": 1,
   "metadata": {},
   "outputs": [],
   "source": [
    "from tensor import *\n",
    "\n",
    "from simulated import *\n",
    "\n",
    "from hill_climb import *\n",
    "\n",
    "\n",
    "import numpy as np"
   ]
  },
  {
   "cell_type": "markdown",
   "metadata": {},
   "source": [
    "## Cube Initialization"
   ]
  },
  {
   "cell_type": "markdown",
   "metadata": {},
   "source": [
    "### Goal State\n",
    " Final state cube we are trying to achieve.<br><br> \n",
    " The ideal state"
   ]
  },
  {
   "cell_type": "code",
   "execution_count": 2,
   "metadata": {},
   "outputs": [],
   "source": [
    "goal_state = [\n",
    "\n",
    "# Level 1\n",
    "[\n",
    "    [33, 22, 113, 42, 105],\n",
    "    [2, 89, 106, 19, 99],\n",
    "    [85, 82, 4, 119, 25],\n",
    "    [98, 90, 6, 112, 9],\n",
    "    [97, 32, 86, 23, 77]\n",
    "],\n",
    "# Level 2\n",
    "[\n",
    "    [95, 80, 111, 11, 18],\n",
    "    [91, 55, 65, 69, 35],\n",
    "    [16, 66, 70, 53, 110],\n",
    "    [5, 68, 54, 67, 121],\n",
    "    [108, 46, 15, 115, 31]\n",
    "],\n",
    "# Level 3\n",
    "[\n",
    "    [100, 17, 48, 34, 116],\n",
    "    [114, 75, 52, 62, 12],\n",
    "    [83, 50, 63, 76, 43],\n",
    "    [8, 64, 74, 51, 118],\n",
    "    [10, 109, 78, 92, 26]\n",
    "],\n",
    "# Level 4\n",
    "[\n",
    "    [38, 102, 3, 125, 47],\n",
    "    [81, 59, 72, 58, 45],\n",
    "    [30, 73, 56, 60, 96],\n",
    "    [87, 57, 61, 71, 39],\n",
    "    [79, 24, 123, 1, 88]\n",
    "],\n",
    "# Level 5\n",
    "[\n",
    "    [49, 94, 40, 103, 29],\n",
    "    [27, 37, 20, 107, 124],\n",
    "    [101, 44, 122, 7, 41],\n",
    "    [117, 36, 120, 14, 28],\n",
    "    [21, 104, 13, 84, 93]\n",
    "]\n",
    "]"
   ]
  },
  {
   "cell_type": "code",
   "execution_count": 3,
   "metadata": {},
   "outputs": [],
   "source": [
    "goal_cube = Tensor(5,5,5,initial_array=goal_state)"
   ]
  },
  {
   "cell_type": "code",
   "execution_count": 4,
   "metadata": {},
   "outputs": [
    {
     "data": {
      "text/plain": [
       "1278394.0"
      ]
     },
     "execution_count": 4,
     "metadata": {},
     "output_type": "execute_result"
    }
   ],
   "source": [
    "goal_cube.objective_function()"
   ]
  },
  {
   "cell_type": "markdown",
   "metadata": {},
   "source": [
    "### Problem Cube Initialization"
   ]
  },
  {
   "cell_type": "code",
   "execution_count": 5,
   "metadata": {},
   "outputs": [],
   "source": [
    "problem_cube = Tensor(5,5,5)\n",
    "\n",
    "cube = problem_cube.initial_state()"
   ]
  },
  {
   "cell_type": "code",
   "execution_count": 6,
   "metadata": {},
   "outputs": [],
   "source": [
    "# cube.plot_cube()"
   ]
  },
  {
   "cell_type": "code",
   "execution_count": 7,
   "metadata": {},
   "outputs": [],
   "source": [
    "# cube.print_tensor()"
   ]
  },
  {
   "cell_type": "code",
   "execution_count": 8,
   "metadata": {},
   "outputs": [],
   "source": [
    "# cube.plot_per_level()"
   ]
  },
  {
   "cell_type": "code",
   "execution_count": 9,
   "metadata": {},
   "outputs": [
    {
     "name": "stdout",
     "output_type": "stream",
     "text": [
      "cube's objective function: 1900844.0\n"
     ]
    }
   ],
   "source": [
    "obj_func = cube.objective_function()\n",
    "print(f\"cube's objective function: {obj_func}\")"
   ]
  },
  {
   "cell_type": "markdown",
   "metadata": {},
   "source": [
    "## Local Seach Implementation"
   ]
  },
  {
   "cell_type": "markdown",
   "metadata": {},
   "source": []
  },
  {
   "cell_type": "markdown",
   "metadata": {},
   "source": [
    "### Steepest Ascent Hill-Climbing"
   ]
  },
  {
   "cell_type": "code",
   "execution_count": 10,
   "metadata": {},
   "outputs": [
    {
     "name": "stdout",
     "output_type": "stream",
     "text": [
      "ideal objective function 1278394.0\n"
     ]
    }
   ],
   "source": [
    "print(f\"ideal objective function {goal_cube.objective_function()}\")"
   ]
  },
  {
   "cell_type": "code",
   "execution_count": 11,
   "metadata": {},
   "outputs": [
    {
     "name": "stdout",
     "output_type": "stream",
     "text": [
      "Initial Value: 1900844.0\n",
      "\n",
      "Initial State: [[[106  24  58  60  51]\n",
      "  [ 70  21 123  14  52]\n",
      "  [ 16  20  66   4  65]\n",
      "  [ 59  96  78  56  39]\n",
      "  [ 11  57  71 116  26]]\n",
      "\n",
      " [[107  43 112  13   8]\n",
      "  [ 92  55  32  45 118]\n",
      "  [ 25  27  49  31   2]\n",
      "  [  1   6 121  46 102]\n",
      "  [109 103  10   7  76]]\n",
      "\n",
      " [[ 94 104  48 111  53]\n",
      "  [ 18  93 100   3  89]\n",
      "  [ 91  30  95  85  63]\n",
      "  [ 29  90 119  98  87]\n",
      "  [ 44  68 110  84 105]]\n",
      "\n",
      " [[ 86  77 117  74   9]\n",
      "  [  5  17  75  35  22]\n",
      "  [ 83  73  42  72  97]\n",
      "  [ 67  88 114  34  79]\n",
      "  [ 62  69  54  61 122]]\n",
      "\n",
      " [[ 33  12  80  41  47]\n",
      "  [ 36 115 125  82 113]\n",
      "  [120  15  64  23  50]\n",
      "  [ 38  40  81  37 108]\n",
      "  [101  28  99 124  19]]]\n",
      "\n",
      "choosen_neighbor = [[[106  24  58  60  51]\n",
      "  [ 70  21 123  14  52]\n",
      "  [ 16  20  66   4  65]\n",
      "  [ 59  96  78  56  63]\n",
      "  [ 11  57  71 116  26]]\n",
      "\n",
      " [[107  43 112  13   8]\n",
      "  [ 92  55  32  45 118]\n",
      "  [ 25  27  49  31   2]\n",
      "  [  1   6 121  46 102]\n",
      "  [109 103  10   7  76]]\n",
      "\n",
      " [[ 94 104  48 111  53]\n",
      "  [ 18  93 100   3  89]\n",
      "  [ 91  30  95  85  39]\n",
      "  [ 29  90 119  98  87]\n",
      "  [ 44  68 110  84 105]]\n",
      "\n",
      " [[ 86  77 117  74   9]\n",
      "  [  5  17  75  35  22]\n",
      "  [ 83  73  42  72  97]\n",
      "  [ 67  88 114  34  79]\n",
      "  [ 62  69  54  61 122]]\n",
      "\n",
      " [[ 33  12  80  41  47]\n",
      "  [ 36 115 125  82 113]\n",
      "  [120  15  64  23  50]\n",
      "  [ 38  40  81  37 108]\n",
      "  [101  28  99 124  19]]]\n",
      "\n",
      "neighbor checked= 1\n",
      "\n",
      "current_value = 1900844.0\n",
      "\n",
      "choosen_neighbor = [[[106  24  58  60  51]\n",
      "  [ 70  21 123  14  52]\n",
      "  [ 16  20  66   4  65]\n",
      "  [ 59  96  78  56  63]\n",
      "  [ 11  57  71 116  26]]\n",
      "\n",
      " [[107  43 112  13   8]\n",
      "  [ 92  55  32  45 118]\n",
      "  [ 25  27  49  31   2]\n",
      "  [  1   6 121  46 102]\n",
      "  [109 103  10   7  76]]\n",
      "\n",
      " [[ 94 104  48 111  53]\n",
      "  [ 18  93 100   3  89]\n",
      "  [ 91  30  95  85  62]\n",
      "  [ 29  90 119  98  87]\n",
      "  [ 44  68 110  84 105]]\n",
      "\n",
      " [[ 86  77 117  74   9]\n",
      "  [  5  17  75  35  22]\n",
      "  [ 83  73  42  72  97]\n",
      "  [ 67  88 114  34  79]\n",
      "  [ 39  69  54  61 122]]\n",
      "\n",
      " [[ 33  12  80  41  47]\n",
      "  [ 36 115 125  82 113]\n",
      "  [120  15  64  23  50]\n",
      "  [ 38  40  81  37 108]\n",
      "  [101  28  99 124  19]]]\n",
      "\n",
      "neighbor checked= 2\n",
      "\n",
      "current_value = 1900844.0\n",
      "\n",
      "choosen_neighbor = [[[106  24  58  60  51]\n",
      "  [ 70  21 123  14  52]\n",
      "  [ 16  20  66   4  65]\n",
      "  [ 59  96  78  56  63]\n",
      "  [ 11  57  71 116  26]]\n",
      "\n",
      " [[107  43 112  13   8]\n",
      "  [ 92  55  32  45 118]\n",
      "  [ 25  27  49  31   2]\n",
      "  [  1  44 121  46 102]\n",
      "  [109 103  10   7  76]]\n",
      "\n",
      " [[ 94 104  48 111  53]\n",
      "  [ 18  93 100   3  89]\n",
      "  [ 91  30  95  85  62]\n",
      "  [ 29  90 119  98  87]\n",
      "  [  6  68 110  84 105]]\n",
      "\n",
      " [[ 86  77 117  74   9]\n",
      "  [  5  17  75  35  22]\n",
      "  [ 83  73  42  72  97]\n",
      "  [ 67  88 114  34  79]\n",
      "  [ 39  69  54  61 122]]\n",
      "\n",
      " [[ 33  12  80  41  47]\n",
      "  [ 36 115 125  82 113]\n",
      "  [120  15  64  23  50]\n",
      "  [ 38  40  81  37 108]\n",
      "  [101  28  99 124  19]]]\n",
      "\n",
      "neighbor checked= 3\n",
      "\n",
      "current_value = 1877414.0\n",
      "\n",
      "choosen_neighbor = [[[106  24  58  60  51]\n",
      "  [ 70  21 123  14  52]\n",
      "  [ 16  20  66   4  65]\n",
      "  [ 59  96  78  56  63]\n",
      "  [ 11  57  71 116  26]]\n",
      "\n",
      " [[107  43 112  13  87]\n",
      "  [ 92  55  32  45 118]\n",
      "  [ 25  27  49  31   2]\n",
      "  [  1  44 121  46 102]\n",
      "  [109 103  10   7  76]]\n",
      "\n",
      " [[ 94 104  48 111  53]\n",
      "  [ 18  93 100   3  89]\n",
      "  [ 91  30  95  85  62]\n",
      "  [ 29  90 119  98   8]\n",
      "  [  6  68 110  84 105]]\n",
      "\n",
      " [[ 86  77 117  74   9]\n",
      "  [  5  17  75  35  22]\n",
      "  [ 83  73  42  72  97]\n",
      "  [ 67  88 114  34  79]\n",
      "  [ 39  69  54  61 122]]\n",
      "\n",
      " [[ 33  12  80  41  47]\n",
      "  [ 36 115 125  82 113]\n",
      "  [120  15  64  23  50]\n",
      "  [ 38  40  81  37 108]\n",
      "  [101  28  99 124  19]]]\n",
      "\n",
      "neighbor checked= 4\n",
      "\n",
      "current_value = 1835702.0\n",
      "\n",
      "choosen_neighbor = [[[106 112  58  60  51]\n",
      "  [ 70  21 123  14  52]\n",
      "  [ 16  20  66   4  65]\n",
      "  [ 59  96  78  56  63]\n",
      "  [ 11  57  71 116  26]]\n",
      "\n",
      " [[107  43  24  13  87]\n",
      "  [ 92  55  32  45 118]\n",
      "  [ 25  27  49  31   2]\n",
      "  [  1  44 121  46 102]\n",
      "  [109 103  10   7  76]]\n",
      "\n",
      " [[ 94 104  48 111  53]\n",
      "  [ 18  93 100   3  89]\n",
      "  [ 91  30  95  85  62]\n",
      "  [ 29  90 119  98   8]\n",
      "  [  6  68 110  84 105]]\n",
      "\n",
      " [[ 86  77 117  74   9]\n",
      "  [  5  17  75  35  22]\n",
      "  [ 83  73  42  72  97]\n",
      "  [ 67  88 114  34  79]\n",
      "  [ 39  69  54  61 122]]\n",
      "\n",
      " [[ 33  12  80  41  47]\n",
      "  [ 36 115 125  82 113]\n",
      "  [120  15  64  23  50]\n",
      "  [ 38  40  81  37 108]\n",
      "  [101  28  99 124  19]]]\n",
      "\n",
      "neighbor checked= 5\n",
      "\n",
      "current_value = 1825142.0\n",
      "\n",
      "choosen_neighbor = [[[106 112  58  60  51]\n",
      "  [ 70  21 123  14  52]\n",
      "  [ 16  20  66   4  65]\n",
      "  [ 59  96  78  56  63]\n",
      "  [ 11  57  71 116  26]]\n",
      "\n",
      " [[107  43  24  13  87]\n",
      "  [ 97  55  32  45 118]\n",
      "  [ 25  27  49  31   2]\n",
      "  [  1  44 121  46 102]\n",
      "  [109 103  10   7  76]]\n",
      "\n",
      " [[ 94 104  48 111  53]\n",
      "  [ 18  93 100   3  89]\n",
      "  [ 91  30  95  85  62]\n",
      "  [ 29  90 119  98   8]\n",
      "  [  6  68 110  84 105]]\n",
      "\n",
      " [[ 86  77 117  74   9]\n",
      "  [  5  17  75  35  22]\n",
      "  [ 83  73  42  72  92]\n",
      "  [ 67  88 114  34  79]\n",
      "  [ 39  69  54  61 122]]\n",
      "\n",
      " [[ 33  12  80  41  47]\n",
      "  [ 36 115 125  82 113]\n",
      "  [120  15  64  23  50]\n",
      "  [ 38  40  81  37 108]\n",
      "  [101  28  99 124  19]]]\n",
      "\n",
      "neighbor checked= 6\n",
      "\n",
      "current_value = 1824542.0\n",
      "\n",
      "choosen_neighbor = [[[106 112  58  60  51]\n",
      "  [ 70  21 123  14  52]\n",
      "  [ 16  20  66   4  65]\n",
      "  [ 59  96  78  56  63]\n",
      "  [ 11  57  71 116  26]]\n",
      "\n",
      " [[107  72  24  13  87]\n",
      "  [ 97  55  32  45 118]\n",
      "  [ 25  27  49  31   2]\n",
      "  [  1  44 121  46 102]\n",
      "  [109 103  10   7  76]]\n",
      "\n",
      " [[ 94 104  48 111  53]\n",
      "  [ 18  93 100   3  89]\n",
      "  [ 91  30  95  85  62]\n",
      "  [ 29  90 119  98   8]\n",
      "  [  6  68 110  84 105]]\n",
      "\n",
      " [[ 86  77 117  74   9]\n",
      "  [  5  17  75  35  22]\n",
      "  [ 83  73  42  43  92]\n",
      "  [ 67  88 114  34  79]\n",
      "  [ 39  69  54  61 122]]\n",
      "\n",
      " [[ 33  12  80  41  47]\n",
      "  [ 36 115 125  82 113]\n",
      "  [120  15  64  23  50]\n",
      "  [ 38  40  81  37 108]\n",
      "  [101  28  99 124  19]]]\n",
      "\n",
      "neighbor checked= 7\n",
      "\n",
      "current_value = 1824542.0\n",
      "\n",
      "choosen_neighbor = [[[106 112  58  60  51]\n",
      "  [ 70  21 123  14  52]\n",
      "  [ 16  20  66   4  65]\n",
      "  [ 59  96  78  56  63]\n",
      "  [ 11  57  71 116  26]]\n",
      "\n",
      " [[107  72  24  13  87]\n",
      "  [ 97  55  32  45 118]\n",
      "  [ 25  27  49  31   2]\n",
      "  [  1  44 121  46 102]\n",
      "  [109 103  10   7  76]]\n",
      "\n",
      " [[ 94 104  48 111  53]\n",
      "  [ 18  93 100   3  89]\n",
      "  [ 91  30  95  85  62]\n",
      "  [ 29  90 119  98   8]\n",
      "  [110  68   6  84 105]]\n",
      "\n",
      " [[ 86  77 117  74   9]\n",
      "  [  5  17  75  35  22]\n",
      "  [ 83  73  42  43  92]\n",
      "  [ 67  88 114  34  79]\n",
      "  [ 39  69  54  61 122]]\n",
      "\n",
      " [[ 33  12  80  41  47]\n",
      "  [ 36 115 125  82 113]\n",
      "  [120  15  64  23  50]\n",
      "  [ 38  40  81  37 108]\n",
      "  [101  28  99 124  19]]]\n",
      "\n",
      "neighbor checked= 8\n",
      "\n",
      "current_value = 1810334.0\n",
      "\n",
      "choosen_neighbor = [[[106 112  58  60  51]\n",
      "  [ 70  21 123  14  52]\n",
      "  [ 16  20  66   4  65]\n",
      "  [ 59  96  78  56  63]\n",
      "  [ 11  57  71 116  26]]\n",
      "\n",
      " [[107  72  24  13  87]\n",
      "  [ 97  55  32  45 118]\n",
      "  [ 25  27  49  31   2]\n",
      "  [  1  44 121  46 102]\n",
      "  [109 103  10   7  76]]\n",
      "\n",
      " [[ 94 104  48 111  53]\n",
      "  [ 18  93 100   3  89]\n",
      "  [ 91  30  86  85  62]\n",
      "  [ 29  90 119  98   8]\n",
      "  [110  68   6  84 105]]\n",
      "\n",
      " [[ 95  77 117  74   9]\n",
      "  [  5  17  75  35  22]\n",
      "  [ 83  73  42  43  92]\n",
      "  [ 67  88 114  34  79]\n",
      "  [ 39  69  54  61 122]]\n",
      "\n",
      " [[ 33  12  80  41  47]\n",
      "  [ 36 115 125  82 113]\n",
      "  [120  15  64  23  50]\n",
      "  [ 38  40  81  37 108]\n",
      "  [101  28  99 124  19]]]\n",
      "\n",
      "neighbor checked= 9\n",
      "\n",
      "current_value = 1810334.0\n",
      "\n",
      "choosen_neighbor = [[[106 112  58  60  51]\n",
      "  [ 70  21 123  14  52]\n",
      "  [ 16  20  66   4  65]\n",
      "  [ 59  96  78  56  63]\n",
      "  [ 11  57  71 116  26]]\n",
      "\n",
      " [[107  72  24  13  87]\n",
      "  [ 97  55  32  45 118]\n",
      "  [ 25  27  49  31   2]\n",
      "  [  1  44 121  46 102]\n",
      "  [109 103  10   7  76]]\n",
      "\n",
      " [[ 94 104  48 111  53]\n",
      "  [ 18  93 100   3  89]\n",
      "  [ 91  30  86  85  62]\n",
      "  [ 29  90 119  98   8]\n",
      "  [110  68   6  84 105]]\n",
      "\n",
      " [[ 95  77 117  74   9]\n",
      "  [  5  17  75  92  22]\n",
      "  [ 83  73  42  43  35]\n",
      "  [ 67  88 114  34  79]\n",
      "  [ 39  69  54  61 122]]\n",
      "\n",
      " [[ 33  12  80  41  47]\n",
      "  [ 36 115 125  82 113]\n",
      "  [120  15  64  23  50]\n",
      "  [ 38  40  81  37 108]\n",
      "  [101  28  99 124  19]]]\n",
      "\n",
      "neighbor checked= 10\n",
      "\n",
      "current_value = 1778531.0\n",
      "\n",
      "choosen_neighbor = [[[ 13 112  58  60  51]\n",
      "  [ 70  21 123  14  52]\n",
      "  [ 16  20  66   4  65]\n",
      "  [ 59  96  78  56  63]\n",
      "  [ 11  57  71 116  26]]\n",
      "\n",
      " [[107  72  24 106  87]\n",
      "  [ 97  55  32  45 118]\n",
      "  [ 25  27  49  31   2]\n",
      "  [  1  44 121  46 102]\n",
      "  [109 103  10   7  76]]\n",
      "\n",
      " [[ 94 104  48 111  53]\n",
      "  [ 18  93 100   3  89]\n",
      "  [ 91  30  86  85  62]\n",
      "  [ 29  90 119  98   8]\n",
      "  [110  68   6  84 105]]\n",
      "\n",
      " [[ 95  77 117  74   9]\n",
      "  [  5  17  75  92  22]\n",
      "  [ 83  73  42  43  35]\n",
      "  [ 67  88 114  34  79]\n",
      "  [ 39  69  54  61 122]]\n",
      "\n",
      " [[ 33  12  80  41  47]\n",
      "  [ 36 115 125  82 113]\n",
      "  [120  15  64  23  50]\n",
      "  [ 38  40  81  37 108]\n",
      "  [101  28  99 124  19]]]\n",
      "\n",
      "neighbor checked= 11\n",
      "\n",
      "current_value = 1778531.0\n",
      "\n",
      "value: 1778531.0\n",
      "\n",
      "value: 1778531.0\n",
      "\n"
     ]
    }
   ],
   "source": [
    "HC = Hill_climb(cube=cube)"
   ]
  },
  {
   "cell_type": "code",
   "execution_count": 12,
   "metadata": {},
   "outputs": [
    {
     "name": "stdout",
     "output_type": "stream",
     "text": [
      "+------------------------ RESULTS -------------------------+\n",
      "\n",
      "    final step: 3\n",
      "\n",
      "  final Value: 1778531.000000\n",
      "\n",
      "+-------------------------- END ---------------------------+\n"
     ]
    }
   ],
   "source": [
    "HC.results()"
   ]
  },
  {
   "cell_type": "code",
   "execution_count": 13,
   "metadata": {},
   "outputs": [
    {
     "data": {
      "text/plain": [
       "1278394.0"
      ]
     },
     "execution_count": 13,
     "metadata": {},
     "output_type": "execute_result"
    }
   ],
   "source": [
    "goal_cube.objective_function()"
   ]
  },
  {
   "cell_type": "code",
   "execution_count": 14,
   "metadata": {},
   "outputs": [
    {
     "name": "stdout",
     "output_type": "stream",
     "text": [
      "differences from ideal: 500137.0\n"
     ]
    }
   ],
   "source": [
    "print(f\"differences from ideal: {HC.best_value - goal_cube.objective_function()}\")"
   ]
  },
  {
   "cell_type": "code",
   "execution_count": 15,
   "metadata": {},
   "outputs": [
    {
     "data": {
      "image/png": "[encoded data removed]",
      "text/plain": [
       "<Figure size 1000x500 with 1 Axes>"
      ]
     },
     "metadata": {},
     "output_type": "display_data"
    }
   ],
   "source": [
    "HC.hist_plot()"
   ]
  },
  {
   "cell_type": "markdown",
   "metadata": {},
   "source": [
    "### Simulated Annealing"
   ]
  },
  {
   "cell_type": "code",
   "execution_count": 16,
   "metadata": {},
   "outputs": [
    {
     "name": "stdout",
     "output_type": "stream",
     "text": [
      "ideal objective function 1278394.0\n"
     ]
    }
   ],
   "source": [
    "print(f\"ideal objective function {goal_cube.objective_function()}\")"
   ]
  },
  {
   "cell_type": "code",
   "execution_count": 17,
   "metadata": {},
   "outputs": [
    {
     "name": "stdout",
     "output_type": "stream",
     "text": [
      "Initial Energy: 1814708.0\n",
      "\n",
      "Energies: 1797708.0 < 1814708.0\n",
      "\n",
      "Temperature: 502.51256281407035\n",
      "\n",
      "Random: 0.4247625052574193\n",
      "\n",
      "Probability: 1\n",
      "\n",
      "Energies: 1790640.0 < 1797708.0\n",
      "\n",
      "Temperature: 201.61290322580646\n",
      "\n",
      "Random: 0.022563782583740144\n",
      "\n",
      "Probability: 1\n",
      "\n"
     ]
    }
   ],
   "source": [
    "SA = Simulated(cube=cube,tmax=1000,step_max=10,cooling_schedule=\"quadratic\",alpha=0.99)"
   ]
  },
  {
   "cell_type": "code",
   "execution_count": 18,
   "metadata": {},
   "outputs": [
    {
     "name": "stdout",
     "output_type": "stream",
     "text": [
      "+------------------------ RESULTS -------------------------+\n",
      "\n",
      "cooling sched.: quadratic multiplicative\n",
      "  initial temp: 1000\n",
      "    final temp: 10.000000\n",
      "     max steps: 10\n",
      "    final step: 11\n",
      "\n",
      "  final energy: 1790640.000000\n",
      "\n",
      "+-------------------------- END ---------------------------+\n"
     ]
    }
   ],
   "source": [
    "SA.results()"
   ]
  },
  {
   "cell_type": "code",
   "execution_count": 19,
   "metadata": {},
   "outputs": [
    {
     "data": {
      "text/plain": [
       "1278394.0"
      ]
     },
     "execution_count": 19,
     "metadata": {},
     "output_type": "execute_result"
    }
   ],
   "source": [
    "goal_cube.objective_function()"
   ]
  },
  {
   "cell_type": "code",
   "execution_count": 20,
   "metadata": {},
   "outputs": [
    {
     "name": "stdout",
     "output_type": "stream",
     "text": [
      "differences from ideal: 512246.0\n"
     ]
    }
   ],
   "source": [
    "print(f\"differences from ideal: {SA.best_energy - goal_cube.objective_function()}\")"
   ]
  },
  {
   "cell_type": "code",
   "execution_count": 21,
   "metadata": {},
   "outputs": [
    {
     "data": {
      "image/png": "[encoded data removed]",
      "text/plain": [
       "<Figure size 1000x500 with 1 Axes>"
      ]
     },
     "metadata": {},
     "output_type": "display_data"
    },
    {
     "ename": "",
     "evalue": "",
     "output_type": "error",
     "traceback": [
      "\u001b[1;31mThe Kernel crashed while executing code in the current cell or a previous cell. \n",
      "\u001b[1;31mPlease review the code in the cell(s) to identify a possible cause of the failure. \n",
      "\u001b[1;31mClick <a href='https://aka.ms/vscodeJupyterKernelCrash'>here</a> for more info. \n",
      "\u001b[1;31mView Jupyter <a href='command:jupyter.viewOutput'>log</a> for further details."
     ]
    }
   ],
   "source": [
    "SA.hist_plot()"
   ]
  },
  {
   "cell_type": "markdown",
   "metadata": {},
   "source": [
    "### Genetic Algorithm\n"
   ]
  }
 ],
 "metadata": {
  "kernelspec": {
   "display_name": "Python 3",
   "language": "python",
   "name": "python3"
  },
  "language_info": {
   "codemirror_mode": {
    "name": "ipython",
    "version": 3
   },
   "file_extension": ".py",
   "mimetype": "text/x-python",
   "name": "python",
   "nbconvert_exporter": "python",
   "pygments_lexer": "ipython3",
   "version": "3.11.9"
  }
 },
 "nbformat": 4,
 "nbformat_minor": 2
}
