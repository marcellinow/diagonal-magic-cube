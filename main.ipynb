{
 "cells": [
  {
   "cell_type": "markdown",
   "metadata": {},
   "source": [
    "# Local Search Implementation on Diagonal Magic Cube\n",
    "## Made by:\n",
    "- Jeremy Deandito / 18222112 \n",
    "\n",
    "- Nathaniel Liady / 18222114\n",
    "\n",
    "- Gabriel Marcellino / 18222115\n",
    "\n",
    "- Nicolas Jeremy / 18222135"
   ]
  },
  {
   "cell_type": "markdown",
   "metadata": {},
   "source": [
    "## Import relevant libraries"
   ]
  },
  {
   "cell_type": "code",
   "execution_count": 1,
   "metadata": {},
   "outputs": [],
   "source": [
    "from tensor import *\n",
    "\n",
    "from simulated import *\n",
    "from hill_climb import *\n",
    "from random_restart import *\n",
    "from geneticAlgoJere import *\n",
    "\n",
    "\n",
    "import numpy as np"
   ]
  },
  {
   "cell_type": "markdown",
   "metadata": {},
   "source": [
    "## Cube Initialization"
   ]
  },
  {
   "cell_type": "markdown",
   "metadata": {},
   "source": [
    "### Goal State\n",
    " Final state cube we are trying to achieve.<br><br> \n",
    " The ideal state"
   ]
  },
  {
   "cell_type": "code",
   "execution_count": 2,
   "metadata": {},
   "outputs": [],
   "source": [
    "goal_state = [\n",
    "\n",
    "# Level 1\n",
    "[\n",
    "    [33, 22, 113, 42, 105],\n",
    "    [2, 89, 106, 19, 99],\n",
    "    [85, 82, 4, 119, 25],\n",
    "    [98, 90, 6, 112, 9],\n",
    "    [97, 32, 86, 23, 77]\n",
    "],\n",
    "# Level 2\n",
    "[\n",
    "    [95, 80, 111, 11, 18],\n",
    "    [91, 55, 65, 69, 35],\n",
    "    [16, 66, 70, 53, 110],\n",
    "    [5, 68, 54, 67, 121],\n",
    "    [108, 46, 15, 115, 31]\n",
    "],\n",
    "# Level 3\n",
    "[\n",
    "    [100, 17, 48, 34, 116],\n",
    "    [114, 75, 52, 62, 12],\n",
    "    [83, 50, 63, 76, 43],\n",
    "    [8, 64, 74, 51, 118],\n",
    "    [10, 109, 78, 92, 26]\n",
    "],\n",
    "# Level 4\n",
    "[\n",
    "    [38, 102, 3, 125, 47],\n",
    "    [81, 59, 72, 58, 45],\n",
    "    [30, 73, 56, 60, 96],\n",
    "    [87, 57, 61, 71, 39],\n",
    "    [79, 24, 123, 1, 88]\n",
    "],\n",
    "# Level 5\n",
    "[\n",
    "    [49, 94, 40, 103, 29],\n",
    "    [27, 37, 20, 107, 124],\n",
    "    [101, 44, 122, 7, 41],\n",
    "    [117, 36, 120, 14, 28],\n",
    "    [21, 104, 13, 84, 93]\n",
    "]\n",
    "]"
   ]
  },
  {
   "cell_type": "code",
   "execution_count": 3,
   "metadata": {},
   "outputs": [],
   "source": [
    "goal_cube = Tensor(5,5,5,initial_array=goal_state)"
   ]
  },
  {
   "cell_type": "code",
   "execution_count": 4,
   "metadata": {},
   "outputs": [
    {
     "name": "stdout",
     "output_type": "stream",
     "text": [
      "goal cube objective function value: 872717.0\n"
     ]
    }
   ],
   "source": [
    "obj_func_goal = goal_cube.objective_function()\n",
    "print(f\"goal cube objective function value: {obj_func_goal}\")"
   ]
  },
  {
   "cell_type": "markdown",
   "metadata": {},
   "source": [
    "### Problem Cube Initialization"
   ]
  },
  {
   "cell_type": "code",
   "execution_count": 5,
   "metadata": {},
   "outputs": [],
   "source": [
    "problem_cube = Tensor(5,5,5)\n",
    "\n",
    "cube = problem_cube.initial_state()"
   ]
  },
  {
   "cell_type": "code",
   "execution_count": 6,
   "metadata": {},
   "outputs": [
    {
     "data": {
      "text/plain": [
       "True"
      ]
     },
     "execution_count": 6,
     "metadata": {},
     "output_type": "execute_result"
    }
   ],
   "source": [
    "cube.same_tensor(cube)"
   ]
  },
  {
   "cell_type": "code",
   "execution_count": 7,
   "metadata": {},
   "outputs": [],
   "source": [
    "# cube.plot_cube()"
   ]
  },
  {
   "cell_type": "code",
   "execution_count": 8,
   "metadata": {},
   "outputs": [
    {
     "name": "stdout",
     "output_type": "stream",
     "text": [
      "Level: 1\n",
      "\n",
      "[ 78  89 109  25  33]\n",
      "[ 52  81  88 112  14]\n",
      "[35 16 57 56 93]\n",
      "[ 8 68 96 90 34]\n",
      "[76 83 99  4 27]\n",
      "\n",
      "Level: 2\n",
      "\n",
      "[82 77 26 23 64]\n",
      "[ 5 94 66 91 45]\n",
      "[113  48  98  21 101]\n",
      "[ 15  47  29 102   3]\n",
      "[120  46  97 118  74]\n",
      "\n",
      "Level: 3\n",
      "\n",
      "[ 51 103   6  10 108]\n",
      "[ 54 115  44  42  13]\n",
      "[ 36  86 125  60  61]\n",
      "[ 84 121  17  11  53]\n",
      "[ 72  87 117 116  28]\n",
      "\n",
      "Level: 4\n",
      "\n",
      "[63 30 85 37 32]\n",
      "[20 75 70  2 59]\n",
      "[100 107  80  38 106]\n",
      "[18 95 49 31  9]\n",
      "[ 71  22  62 119  79]\n",
      "\n",
      "Level: 5\n",
      "\n",
      "[122   7  40  43 104]\n",
      "[114  50  69  12  24]\n",
      "[ 67  55 124  58 123]\n",
      "[ 73 111  39  19   1]\n",
      "[ 65 110  92 105  41]\n",
      "\n"
     ]
    }
   ],
   "source": [
    "cube.print_tensor()"
   ]
  },
  {
   "cell_type": "code",
   "execution_count": 9,
   "metadata": {},
   "outputs": [],
   "source": [
    "# cube.plot_per_level()"
   ]
  },
  {
   "cell_type": "code",
   "execution_count": 10,
   "metadata": {},
   "outputs": [
    {
     "name": "stdout",
     "output_type": "stream",
     "text": [
      "cube's objective function: 1349526.0\n"
     ]
    }
   ],
   "source": [
    "obj_func = cube.objective_function()\n",
    "print(f\"cube's objective function: {obj_func}\")"
   ]
  },
  {
   "cell_type": "markdown",
   "metadata": {},
   "source": [
    "## Local Seach Implementation"
   ]
  },
  {
   "cell_type": "markdown",
   "metadata": {},
   "source": []
  },
  {
   "cell_type": "markdown",
   "metadata": {},
   "source": [
    "### Random Restart Hill-Climbing\n"
   ]
  },
  {
   "cell_type": "code",
   "execution_count": 11,
   "metadata": {},
   "outputs": [
    {
     "name": "stdout",
     "output_type": "stream",
     "text": [
      "ideal objective function 872717.0\n"
     ]
    }
   ],
   "source": [
    "print(f\"ideal objective function {obj_func_goal}\")"
   ]
  },
  {
   "cell_type": "code",
   "execution_count": null,
   "metadata": {},
   "outputs": [],
   "source": [
    "RR = Random_restart(cube=cube)"
   ]
  },
  {
   "cell_type": "code",
   "execution_count": null,
   "metadata": {},
   "outputs": [],
   "source": [
    "RR.results()"
   ]
  },
  {
   "cell_type": "code",
   "execution_count": null,
   "metadata": {},
   "outputs": [],
   "source": [
    "print(f\"Random Restart Best Value: {RR.best_value}\\n\")\n",
    "print(f\"Ideal Value: {obj_func_goal}\\n\")\n",
    "print(f\"differences from ideal: {RR.best_value - obj_func_goal}\")"
   ]
  },
  {
   "cell_type": "code",
   "execution_count": null,
   "metadata": {},
   "outputs": [],
   "source": [
    "RR.hist_plot()"
   ]
  },
  {
   "cell_type": "markdown",
   "metadata": {},
   "source": [
    "### Simulated Annealing"
   ]
  },
  {
   "cell_type": "code",
   "execution_count": null,
   "metadata": {},
   "outputs": [],
   "source": [
    "print(f\"ideal objective function {goal_cube.objective_function()}\")"
   ]
  },
  {
   "cell_type": "code",
   "execution_count": null,
   "metadata": {},
   "outputs": [],
   "source": [
    "SA = Simulated(cube=cube,tmax=100,step_max=100,cooling_schedule=\"quadratic\",alpha=0.999)"
   ]
  },
  {
   "cell_type": "code",
   "execution_count": null,
   "metadata": {},
   "outputs": [],
   "source": [
    "SA.results()"
   ]
  },
  {
   "cell_type": "code",
   "execution_count": null,
   "metadata": {},
   "outputs": [],
   "source": [
    "print(f\"differences from ideal: {SA.best_energy - obj_func_goal}\")"
   ]
  },
  {
   "cell_type": "code",
   "execution_count": null,
   "metadata": {},
   "outputs": [],
   "source": [
    "SA.best_energy"
   ]
  },
  {
   "cell_type": "code",
   "execution_count": null,
   "metadata": {},
   "outputs": [],
   "source": [
    "SA.hist_plot()"
   ]
  },
  {
   "cell_type": "markdown",
   "metadata": {},
   "source": [
    "### Genetic Algorithm\n"
   ]
  },
  {
   "cell_type": "code",
   "execution_count": 22,
   "metadata": {},
   "outputs": [
    {
     "name": "stdout",
     "output_type": "stream",
     "text": [
      "ideal objective function 872717.0\n"
     ]
    }
   ],
   "source": [
    "print(f\"ideal objective function {goal_cube.objective_function()}\")"
   ]
  },
  {
   "cell_type": "code",
   "execution_count": 23,
   "metadata": {},
   "outputs": [
    {
     "name": "stdout",
     "output_type": "stream",
     "text": [
      "Generating initial population...\n",
      "Initial Population Generated with size:  500\n",
      "Generation:  1 Fitness:  1377134.0\n",
      "Generation:  2 Fitness:  1311268.0\n",
      "Generation:  3 Fitness:  1255593.0\n",
      "Generation:  4 Fitness:  1157673.0\n",
      "Generation:  5 Fitness:  1098963.0\n",
      "Generation:  6 Fitness:  1040816.0\n",
      "Generation:  7 Fitness:  997382.0\n",
      "Generation:  8 Fitness:  938978.0\n",
      "Generation:  9 Fitness:  901083.0\n",
      "Generation:  10 Fitness:  875211.0\n",
      "Generation:  11 Fitness:  836811.0\n",
      "Generation:  12 Fitness:  801655.0\n",
      "Generation:  13 Fitness:  771534.0\n",
      "Generation:  14 Fitness:  741634.0\n",
      "Generation:  15 Fitness:  708839.0\n",
      "Generation:  16 Fitness:  690471.0\n",
      "Generation:  17 Fitness:  662541.0\n",
      "Generation:  18 Fitness:  641700.0\n",
      "Generation:  19 Fitness:  618802.0\n",
      "Generation:  20 Fitness:  594079.0\n",
      "Generation:  21 Fitness:  580666.0\n",
      "Generation:  22 Fitness:  571030.0\n",
      "Generation:  23 Fitness:  545830.0\n",
      "Generation:  24 Fitness:  532454.0\n",
      "Generation:  25 Fitness:  515557.0\n",
      "Generation:  26 Fitness:  497809.0\n",
      "Generation:  27 Fitness:  479113.0\n",
      "Generation:  28 Fitness:  466618.0\n",
      "Generation:  29 Fitness:  458982.0\n",
      "Generation:  30 Fitness:  453886.0\n",
      "Generation:  31 Fitness:  450238.0\n",
      "Generation:  32 Fitness:  439870.0\n",
      "Generation:  33 Fitness:  433430.0\n",
      "Generation:  34 Fitness:  427970.0\n",
      "Generation:  35 Fitness:  416633.0\n",
      "Generation:  36 Fitness:  409478.0\n",
      "Generation:  37 Fitness:  407770.0\n",
      "Generation:  38 Fitness:  397942.0\n",
      "Generation:  39 Fitness:  389643.0\n",
      "Generation:  40 Fitness:  384864.0\n",
      "Generation:  41 Fitness:  380736.0\n",
      "Generation:  42 Fitness:  373907.0\n",
      "Generation:  43 Fitness:  365222.0\n",
      "Generation:  44 Fitness:  360741.0\n",
      "Generation:  45 Fitness:  354646.0\n",
      "Generation:  46 Fitness:  351265.0\n",
      "Generation:  47 Fitness:  346785.0\n",
      "Generation:  48 Fitness:  342975.0\n",
      "Generation:  49 Fitness:  333714.0\n",
      "Generation:  50 Fitness:  328226.0\n",
      "Generation:  51 Fitness:  322527.0\n",
      "Generation:  52 Fitness:  319859.0\n",
      "Generation:  53 Fitness:  317841.0\n",
      "Generation:  54 Fitness:  315173.0\n",
      "Generation:  55 Fitness:  311408.0\n",
      "Generation:  56 Fitness:  307768.0\n",
      "Generation:  57 Fitness:  304555.0\n",
      "Generation:  58 Fitness:  301030.0\n",
      "Generation:  59 Fitness:  295662.0\n",
      "Generation:  60 Fitness:  293362.0\n",
      "Generation:  61 Fitness:  291962.0\n",
      "Generation:  62 Fitness:  289247.0\n",
      "Generation:  63 Fitness:  287672.0\n",
      "Generation:  64 Fitness:  285903.0\n",
      "Generation:  65 Fitness:  283355.0\n",
      "Generation:  66 Fitness:  281579.0\n",
      "Generation:  67 Fitness:  279467.0\n",
      "Generation:  68 Fitness:  277723.0\n",
      "Generation:  69 Fitness:  275611.0\n",
      "Generation:  70 Fitness:  274786.0\n",
      "Generation:  71 Fitness:  272248.0\n",
      "Generation:  72 Fitness:  269648.0\n",
      "Generation:  73 Fitness:  268588.0\n",
      "Generation:  74 Fitness:  265976.0\n",
      "Generation:  75 Fitness:  264856.0\n",
      "Generation:  76 Fitness:  263811.0\n",
      "Generation:  77 Fitness:  261843.0\n",
      "Generation:  78 Fitness:  259506.0\n",
      "Generation:  79 Fitness:  257295.0\n",
      "Generation:  80 Fitness:  256197.0\n",
      "Generation:  81 Fitness:  255804.0\n",
      "Generation:  82 Fitness:  253687.0\n",
      "Generation:  83 Fitness:  251639.0\n",
      "Generation:  84 Fitness:  251047.0\n",
      "Generation:  85 Fitness:  250647.0\n",
      "Generation:  86 Fitness:  250262.0\n",
      "Generation:  87 Fitness:  249618.0\n",
      "Generation:  88 Fitness:  249232.0\n",
      "Generation:  89 Fitness:  246924.0\n",
      "Generation:  90 Fitness:  245820.0\n",
      "Generation:  91 Fitness:  245799.0\n",
      "Generation:  92 Fitness:  245685.0\n",
      "Generation:  93 Fitness:  245041.0\n",
      "Generation:  94 Fitness:  243934.0\n",
      "Generation:  95 Fitness:  243024.0\n",
      "Generation:  96 Fitness:  242204.0\n",
      "Generation:  97 Fitness:  241560.0\n",
      "Generation:  98 Fitness:  240849.0\n",
      "Generation:  99 Fitness:  240174.0\n",
      "Generation:  100 Fitness:  238678.0\n",
      "Generation:  101 Fitness:  237763.0\n",
      "Generation:  102 Fitness:  237598.0\n",
      "Generation:  103 Fitness:  237193.0\n",
      "Generation:  104 Fitness:  236853.0\n",
      "Generation:  105 Fitness:  235527.0\n",
      "Generation:  106 Fitness:  234702.0\n",
      "Generation:  107 Fitness:  234206.0\n",
      "Generation:  108 Fitness:  233382.0\n",
      "Generation:  109 Fitness:  233157.0\n",
      "Generation:  110 Fitness:  232901.0\n",
      "Generation:  111 Fitness:  232517.0\n",
      "Generation:  112 Fitness:  232300.0\n",
      "Generation:  113 Fitness:  231520.0\n",
      "Generation:  114 Fitness:  231312.0\n",
      "Generation:  115 Fitness:  230610.0\n",
      "Generation:  116 Fitness:  230402.0\n",
      "Generation:  117 Fitness:  230350.0\n",
      "Generation:  118 Fitness:  230315.0\n",
      "Generation:  119 Fitness:  230075.0\n",
      "Generation:  120 Fitness:  229040.0\n",
      "Generation:  121 Fitness:  228912.0\n",
      "Generation:  122 Fitness:  228357.0\n",
      "Generation:  123 Fitness:  227877.0\n",
      "Generation:  124 Fitness:  227749.0\n",
      "Generation:  125 Fitness:  227566.0\n",
      "Generation:  126 Fitness:  227134.0\n",
      "Generation:  127 Fitness:  226858.0\n",
      "Generation:  128 Fitness:  226626.0\n",
      "Generation:  129 Fitness:  226404.0\n",
      "Generation:  130 Fitness:  226268.0\n",
      "Generation:  131 Fitness:  225767.0\n",
      "Generation:  132 Fitness:  225599.0\n",
      "Generation:  133 Fitness:  225599.0\n",
      "Generation:  134 Fitness:  225074.0\n",
      "Generation:  135 Fitness:  224723.0\n",
      "Generation:  136 Fitness:  224606.0\n",
      "Generation:  137 Fitness:  224549.0\n",
      "Generation:  138 Fitness:  224073.0\n",
      "Generation:  139 Fitness:  223800.0\n",
      "Generation:  140 Fitness:  223743.0\n",
      "Generation:  141 Fitness:  223503.0\n",
      "Generation:  142 Fitness:  223389.0\n",
      "Generation:  143 Fitness:  223361.0\n",
      "Generation:  144 Fitness:  223101.0\n",
      "Generation:  145 Fitness:  222881.0\n",
      "Generation:  146 Fitness:  222845.0\n",
      "Generation:  147 Fitness:  222845.0\n",
      "Generation:  148 Fitness:  222769.0\n",
      "Generation:  149 Fitness:  222705.0\n",
      "Generation:  150 Fitness:  222688.0\n",
      "Generation:  151 Fitness:  222601.0\n",
      "Generation:  152 Fitness:  222489.0\n",
      "Generation:  153 Fitness:  222416.0\n",
      "Generation:  154 Fitness:  222371.0\n",
      "Generation:  155 Fitness:  221931.0\n",
      "Generation:  156 Fitness:  221886.0\n",
      "Generation:  157 Fitness:  221680.0\n",
      "Generation:  158 Fitness:  221463.0\n",
      "Generation:  159 Fitness:  221292.0\n",
      "Generation:  160 Fitness:  221212.0\n",
      "Generation:  161 Fitness:  221164.0\n",
      "Generation:  162 Fitness:  220979.0\n",
      "Generation:  163 Fitness:  220911.0\n",
      "Generation:  164 Fitness:  220911.0\n",
      "Generation:  165 Fitness:  220641.0\n",
      "Generation:  166 Fitness:  220431.0\n",
      "Generation:  167 Fitness:  220369.0\n",
      "Generation:  168 Fitness:  220159.0\n",
      "Generation:  169 Fitness:  220159.0\n",
      "Generation:  170 Fitness:  220051.0\n",
      "Generation:  171 Fitness:  219819.0\n",
      "Generation:  172 Fitness:  219648.0\n",
      "Generation:  173 Fitness:  219573.0\n",
      "Generation:  174 Fitness:  219541.0\n",
      "Generation:  175 Fitness:  219508.0\n",
      "Generation:  176 Fitness:  219455.0\n",
      "Generation:  177 Fitness:  219388.0\n",
      "Generation:  178 Fitness:  219276.0\n",
      "Generation:  179 Fitness:  219228.0\n",
      "Generation:  180 Fitness:  219201.0\n",
      "Generation:  181 Fitness:  219201.0\n",
      "Generation:  182 Fitness:  218973.0\n",
      "Generation:  183 Fitness:  218946.0\n",
      "Generation:  184 Fitness:  218946.0\n",
      "Generation:  185 Fitness:  218897.0\n",
      "Generation:  186 Fitness:  218857.0\n",
      "Generation:  187 Fitness:  218729.0\n",
      "Generation:  188 Fitness:  218666.0\n",
      "Generation:  189 Fitness:  218598.0\n",
      "Generation:  190 Fitness:  218598.0\n",
      "Generation:  191 Fitness:  218523.0\n",
      "Generation:  192 Fitness:  218475.0\n",
      "Generation:  193 Fitness:  218420.0\n",
      "Generation:  194 Fitness:  218235.0\n",
      "Generation:  195 Fitness:  218180.0\n",
      "Generation:  196 Fitness:  218180.0\n",
      "Generation:  197 Fitness:  218176.0\n",
      "Generation:  198 Fitness:  218176.0\n",
      "Generation:  199 Fitness:  218159.0\n",
      "Generation:  200 Fitness:  218151.0\n",
      "Generation:  201 Fitness:  218088.0\n",
      "Generation:  202 Fitness:  218058.0\n",
      "Generation:  203 Fitness:  218058.0\n",
      "Generation:  204 Fitness:  218058.0\n",
      "Generation:  205 Fitness:  218058.0\n",
      "Generation:  206 Fitness:  217986.0\n",
      "Generation:  207 Fitness:  217962.0\n",
      "Generation:  208 Fitness:  217933.0\n",
      "Generation:  209 Fitness:  217787.0\n",
      "Generation:  210 Fitness:  217745.0\n",
      "Generation:  211 Fitness:  217745.0\n",
      "Generation:  212 Fitness:  217742.0\n",
      "Generation:  213 Fitness:  217707.0\n",
      "Generation:  214 Fitness:  217686.0\n",
      "Generation:  215 Fitness:  217661.0\n",
      "Generation:  216 Fitness:  217633.0\n",
      "Generation:  217 Fitness:  217617.0\n",
      "Generation:  218 Fitness:  217617.0\n",
      "Generation:  219 Fitness:  217617.0\n",
      "Generation:  220 Fitness:  217617.0\n",
      "Generation:  221 Fitness:  217608.0\n",
      "Generation:  222 Fitness:  217604.0\n",
      "Generation:  223 Fitness:  217584.0\n",
      "Generation:  224 Fitness:  217580.0\n",
      "Generation:  225 Fitness:  217580.0\n",
      "Generation:  226 Fitness:  217553.0\n",
      "Generation:  227 Fitness:  217553.0\n",
      "Generation:  228 Fitness:  217553.0\n",
      "Generation:  229 Fitness:  217533.0\n",
      "Generation:  230 Fitness:  217533.0\n",
      "Generation:  231 Fitness:  217413.0\n",
      "Generation:  232 Fitness:  217409.0\n",
      "Generation:  233 Fitness:  217409.0\n",
      "Generation:  234 Fitness:  217217.0\n",
      "Generation:  235 Fitness:  217196.0\n",
      "Generation:  236 Fitness:  217164.0\n",
      "Generation:  237 Fitness:  217145.0\n",
      "Generation:  238 Fitness:  217107.0\n",
      "Generation:  239 Fitness:  217009.0\n",
      "Generation:  240 Fitness:  216997.0\n",
      "Generation:  241 Fitness:  216996.0\n",
      "Generation:  242 Fitness:  216973.0\n",
      "Generation:  243 Fitness:  216972.0\n",
      "Generation:  244 Fitness:  216892.0\n",
      "Generation:  245 Fitness:  216850.0\n",
      "Generation:  246 Fitness:  216850.0\n",
      "Generation:  247 Fitness:  216814.0\n",
      "Generation:  248 Fitness:  216788.0\n",
      "Generation:  249 Fitness:  216788.0\n",
      "Generation:  250 Fitness:  216724.0\n",
      "Generation:  251 Fitness:  216692.0\n",
      "Generation:  252 Fitness:  216676.0\n",
      "Generation:  253 Fitness:  216644.0\n",
      "Generation:  254 Fitness:  216644.0\n",
      "Generation:  255 Fitness:  216639.0\n",
      "Generation:  256 Fitness:  216638.0\n",
      "Generation:  257 Fitness:  216638.0\n",
      "Generation:  258 Fitness:  216629.0\n",
      "Generation:  259 Fitness:  216590.0\n",
      "Generation:  260 Fitness:  216524.0\n",
      "Generation:  261 Fitness:  216497.0\n",
      "Generation:  262 Fitness:  216497.0\n",
      "Generation:  263 Fitness:  216492.0\n",
      "Generation:  264 Fitness:  216465.0\n",
      "Generation:  265 Fitness:  216460.0\n",
      "Generation:  266 Fitness:  216460.0\n",
      "Generation:  267 Fitness:  216460.0\n",
      "Generation:  268 Fitness:  216428.0\n",
      "Generation:  269 Fitness:  216428.0\n",
      "Generation:  270 Fitness:  216428.0\n",
      "Generation:  271 Fitness:  216428.0\n",
      "Generation:  272 Fitness:  216428.0\n",
      "Generation:  273 Fitness:  216413.0\n",
      "Generation:  274 Fitness:  216381.0\n",
      "Generation:  275 Fitness:  216373.0\n",
      "Generation:  276 Fitness:  216373.0\n",
      "Generation:  277 Fitness:  216360.0\n",
      "Generation:  278 Fitness:  216325.0\n",
      "Generation:  279 Fitness:  216305.0\n",
      "Generation:  280 Fitness:  216305.0\n",
      "Generation:  281 Fitness:  216305.0\n",
      "Generation:  282 Fitness:  216297.0\n",
      "Generation:  283 Fitness:  216297.0\n",
      "Generation:  284 Fitness:  216297.0\n",
      "Generation:  285 Fitness:  216288.0\n",
      "Generation:  286 Fitness:  216288.0\n",
      "Generation:  287 Fitness:  216288.0\n",
      "Generation:  288 Fitness:  216273.0\n",
      "Generation:  289 Fitness:  216257.0\n",
      "Generation:  290 Fitness:  216242.0\n",
      "Generation:  291 Fitness:  216242.0\n",
      "Generation:  292 Fitness:  216226.0\n",
      "Generation:  293 Fitness:  216226.0\n",
      "Generation:  294 Fitness:  216226.0\n",
      "Generation:  295 Fitness:  216226.0\n",
      "Generation:  296 Fitness:  216226.0\n",
      "Generation:  297 Fitness:  216217.0\n",
      "Generation:  298 Fitness:  216212.0\n",
      "Generation:  299 Fitness:  216164.0\n",
      "Generation:  300 Fitness:  216144.0\n",
      "Best solution found:\n",
      "Level: 1\n",
      "\n",
      "[110  33  34  76  69]\n",
      "[ 23 102 125  42  21]\n",
      "[100  52  10  36 120]\n",
      "[ 23  41  91 109  43]\n",
      "[55 81 56 52 66]\n",
      "\n",
      "Level: 2\n",
      "\n",
      "[47 76 45 97 44]\n",
      "[123  76  31  52  29]\n",
      "[ 82  31 100  82  19]\n",
      "[ 63  18  70  57 103]\n",
      "[  2 112  63  26 117]\n",
      "\n",
      "Level: 3\n",
      "\n",
      "[95 55 62 61 47]\n",
      "[ 56 108  65  16  71]\n",
      "[32 51 76 77 83]\n",
      "[86 61 50 80 43]\n",
      "[51 42 62 84 72]\n",
      "\n",
      "Level: 4\n",
      "\n",
      "[116  88  66  38  10]\n",
      "[ 32  62  36  89 101]\n",
      "[ 52 119  78  21  42]\n",
      "[ 55  19  64 100  82]\n",
      "[61 29 77 67 83]\n",
      "\n",
      "Level: 5\n",
      "\n",
      "[ 62  65 102  43  38]\n",
      "[82 75 58  1 90]\n",
      "[ 41  60  52 104  54]\n",
      "[88 62 41 82 36]\n",
      "[34 48 56 80 92]\n",
      "\n",
      "Fitness: 216144.0\n"
     ]
    }
   ],
   "source": [
    "GA=GeneticAlgo(cube=cube, goal_cube=goal_cube, population_size=500, generation_rate=300)"
   ]
  },
  {
   "cell_type": "code",
   "execution_count": 24,
   "metadata": {},
   "outputs": [
    {
     "data": {
      "image/png": "[encoded data removed]",
      "text/plain": [
       "<Figure size 1000x500 with 1 Axes>"
      ]
     },
     "metadata": {},
     "output_type": "display_data"
    }
   ],
   "source": [
    "GA.hist_plot()"
   ]
  }
 ],
 "metadata": {
  "kernelspec": {
   "display_name": "Python 3",
   "language": "python",
   "name": "python3"
  },
  "language_info": {
   "codemirror_mode": {
    "name": "ipython",
    "version": 3
   },
   "file_extension": ".py",
   "mimetype": "text/x-python",
   "name": "python",
   "nbconvert_exporter": "python",
   "pygments_lexer": "ipython3",
   "version": "3.10.11"
  }
 },
 "nbformat": 4,
 "nbformat_minor": 2
}
